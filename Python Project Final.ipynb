{
 "cells": [
  {
   "cell_type": "code",
   "execution_count": 14,
   "id": "26ca9d3c",
   "metadata": {},
   "outputs": [
    {
     "data": {
      "text/plain": [
       "'\\n\\nEconomic Forecasts with the Yield Curve\\n\\nEvery U.S. recession in the past 60 years was preceded by a negative term spread (an inverted yield curve).\\n(Rudebusch and Williams 2009). This project hopes to visually display the striking accuracy of the\\n2-year and 10-year term spread (the main one that traders watch), as well as the 3-month/10-year and\\n5-year/30-year spreads. \\n\\n'"
      ]
     },
     "execution_count": 14,
     "metadata": {},
     "output_type": "execute_result"
    }
   ],
   "source": [
    "\n",
    "'''\n",
    "\n",
    "Economic Forecasts with the Yield Curve\n",
    "\n",
    "Every U.S. recession in the past 60 years was preceded by a negative term spread (an inverted yield curve).\n",
    "(Rudebusch and Williams 2009). This project hopes to visually display the striking accuracy of the\n",
    "2-year and 10-year term spread (the main one that traders watch), as well as the 3-month/10-year and\n",
    "5-year/30-year spreads. \n",
    "\n",
    "'''\n",
    "\n"
   ]
  },
  {
   "cell_type": "code",
   "execution_count": 15,
   "id": "5e9d48b4",
   "metadata": {},
   "outputs": [],
   "source": [
    "import pandas as pd\n",
    "import datetime\n",
    "import numpy as np\n",
    "import matplotlib.pyplot as plt\n",
    "import matplotlib.patches as mpatches\n",
    "from datetime import timedelta\n",
    "import matplotlib.dates as mdates"
   ]
  },
  {
   "cell_type": "code",
   "execution_count": 16,
   "id": "a9f7421d",
   "metadata": {},
   "outputs": [],
   "source": [
    "# Load Treasury rates \n",
    "# https://home.treasury.gov/resource-center/data-chart-center/interest-rates/TextView?type=daily_treasury_yield_curve&field_tdr_date_value=all\n",
    "\n",
    "#Load Spy Historical data\n",
    "#https://www.wsj.com/market-data/quotes/index/SPX/historical-prices"
   ]
  },
  {
   "cell_type": "code",
   "execution_count": 17,
   "id": "af3dcf3c",
   "metadata": {},
   "outputs": [
    {
     "data": {
      "text/html": [
       "<div>\n",
       "<style scoped>\n",
       "    .dataframe tbody tr th:only-of-type {\n",
       "        vertical-align: middle;\n",
       "    }\n",
       "\n",
       "    .dataframe tbody tr th {\n",
       "        vertical-align: top;\n",
       "    }\n",
       "\n",
       "    .dataframe thead th {\n",
       "        text-align: right;\n",
       "    }\n",
       "</style>\n",
       "<table border=\"1\" class=\"dataframe\">\n",
       "  <thead>\n",
       "    <tr style=\"text-align: right;\">\n",
       "      <th></th>\n",
       "      <th>Date</th>\n",
       "      <th>1 Mo</th>\n",
       "      <th>2 Mo</th>\n",
       "      <th>3 Mo</th>\n",
       "      <th>6 Mo</th>\n",
       "      <th>1 Yr</th>\n",
       "      <th>2 Yr</th>\n",
       "      <th>3 Yr</th>\n",
       "      <th>5 Yr</th>\n",
       "      <th>7 Yr</th>\n",
       "      <th>10 Yr</th>\n",
       "      <th>20 Yr</th>\n",
       "      <th>30 Yr</th>\n",
       "    </tr>\n",
       "  </thead>\n",
       "  <tbody>\n",
       "    <tr>\n",
       "      <th>0</th>\n",
       "      <td>03/31/2022</td>\n",
       "      <td>0.17</td>\n",
       "      <td>0.35</td>\n",
       "      <td>0.52</td>\n",
       "      <td>1.06</td>\n",
       "      <td>1.63</td>\n",
       "      <td>2.28</td>\n",
       "      <td>2.45</td>\n",
       "      <td>2.42</td>\n",
       "      <td>2.40</td>\n",
       "      <td>2.32</td>\n",
       "      <td>2.59</td>\n",
       "      <td>2.44</td>\n",
       "    </tr>\n",
       "    <tr>\n",
       "      <th>1</th>\n",
       "      <td>03/30/2022</td>\n",
       "      <td>0.16</td>\n",
       "      <td>0.33</td>\n",
       "      <td>0.55</td>\n",
       "      <td>1.04</td>\n",
       "      <td>1.64</td>\n",
       "      <td>2.31</td>\n",
       "      <td>2.49</td>\n",
       "      <td>2.44</td>\n",
       "      <td>2.43</td>\n",
       "      <td>2.35</td>\n",
       "      <td>2.63</td>\n",
       "      <td>2.48</td>\n",
       "    </tr>\n",
       "    <tr>\n",
       "      <th>2</th>\n",
       "      <td>03/29/2022</td>\n",
       "      <td>0.18</td>\n",
       "      <td>0.34</td>\n",
       "      <td>0.55</td>\n",
       "      <td>1.06</td>\n",
       "      <td>1.67</td>\n",
       "      <td>2.35</td>\n",
       "      <td>2.54</td>\n",
       "      <td>2.49</td>\n",
       "      <td>2.50</td>\n",
       "      <td>2.41</td>\n",
       "      <td>2.68</td>\n",
       "      <td>2.53</td>\n",
       "    </tr>\n",
       "    <tr>\n",
       "      <th>3</th>\n",
       "      <td>03/28/2022</td>\n",
       "      <td>0.19</td>\n",
       "      <td>0.36</td>\n",
       "      <td>0.59</td>\n",
       "      <td>1.08</td>\n",
       "      <td>1.69</td>\n",
       "      <td>2.35</td>\n",
       "      <td>2.55</td>\n",
       "      <td>2.54</td>\n",
       "      <td>2.55</td>\n",
       "      <td>2.46</td>\n",
       "      <td>2.72</td>\n",
       "      <td>2.57</td>\n",
       "    </tr>\n",
       "    <tr>\n",
       "      <th>4</th>\n",
       "      <td>03/25/2022</td>\n",
       "      <td>0.17</td>\n",
       "      <td>0.32</td>\n",
       "      <td>0.55</td>\n",
       "      <td>1.01</td>\n",
       "      <td>1.67</td>\n",
       "      <td>2.30</td>\n",
       "      <td>2.51</td>\n",
       "      <td>2.55</td>\n",
       "      <td>2.56</td>\n",
       "      <td>2.48</td>\n",
       "      <td>2.74</td>\n",
       "      <td>2.60</td>\n",
       "    </tr>\n",
       "    <tr>\n",
       "      <th>...</th>\n",
       "      <td>...</td>\n",
       "      <td>...</td>\n",
       "      <td>...</td>\n",
       "      <td>...</td>\n",
       "      <td>...</td>\n",
       "      <td>...</td>\n",
       "      <td>...</td>\n",
       "      <td>...</td>\n",
       "      <td>...</td>\n",
       "      <td>...</td>\n",
       "      <td>...</td>\n",
       "      <td>...</td>\n",
       "      <td>...</td>\n",
       "    </tr>\n",
       "    <tr>\n",
       "      <th>8060</th>\n",
       "      <td>01/16/1990</td>\n",
       "      <td>NaN</td>\n",
       "      <td>NaN</td>\n",
       "      <td>7.89</td>\n",
       "      <td>7.99</td>\n",
       "      <td>7.92</td>\n",
       "      <td>8.10</td>\n",
       "      <td>8.13</td>\n",
       "      <td>8.11</td>\n",
       "      <td>8.18</td>\n",
       "      <td>8.20</td>\n",
       "      <td>NaN</td>\n",
       "      <td>8.25</td>\n",
       "    </tr>\n",
       "    <tr>\n",
       "      <th>8061</th>\n",
       "      <td>01/12/1990</td>\n",
       "      <td>NaN</td>\n",
       "      <td>NaN</td>\n",
       "      <td>7.74</td>\n",
       "      <td>7.81</td>\n",
       "      <td>7.76</td>\n",
       "      <td>7.93</td>\n",
       "      <td>7.98</td>\n",
       "      <td>7.99</td>\n",
       "      <td>8.07</td>\n",
       "      <td>8.10</td>\n",
       "      <td>NaN</td>\n",
       "      <td>8.17</td>\n",
       "    </tr>\n",
       "    <tr>\n",
       "      <th>8062</th>\n",
       "      <td>01/11/1990</td>\n",
       "      <td>NaN</td>\n",
       "      <td>NaN</td>\n",
       "      <td>7.80</td>\n",
       "      <td>7.80</td>\n",
       "      <td>7.77</td>\n",
       "      <td>7.91</td>\n",
       "      <td>7.95</td>\n",
       "      <td>7.94</td>\n",
       "      <td>8.01</td>\n",
       "      <td>8.04</td>\n",
       "      <td>NaN</td>\n",
       "      <td>8.11</td>\n",
       "    </tr>\n",
       "    <tr>\n",
       "      <th>8063</th>\n",
       "      <td>01/10/1990</td>\n",
       "      <td>NaN</td>\n",
       "      <td>NaN</td>\n",
       "      <td>7.75</td>\n",
       "      <td>7.78</td>\n",
       "      <td>7.77</td>\n",
       "      <td>7.91</td>\n",
       "      <td>7.95</td>\n",
       "      <td>7.92</td>\n",
       "      <td>8.00</td>\n",
       "      <td>8.03</td>\n",
       "      <td>NaN</td>\n",
       "      <td>8.11</td>\n",
       "    </tr>\n",
       "    <tr>\n",
       "      <th>8064</th>\n",
       "      <td>01/09/1990</td>\n",
       "      <td>NaN</td>\n",
       "      <td>NaN</td>\n",
       "      <td>7.80</td>\n",
       "      <td>7.82</td>\n",
       "      <td>7.78</td>\n",
       "      <td>7.91</td>\n",
       "      <td>7.94</td>\n",
       "      <td>7.92</td>\n",
       "      <td>8.05</td>\n",
       "      <td>8.02</td>\n",
       "      <td>NaN</td>\n",
       "      <td>8.10</td>\n",
       "    </tr>\n",
       "  </tbody>\n",
       "</table>\n",
       "<p>8065 rows × 13 columns</p>\n",
       "</div>"
      ],
      "text/plain": [
       "            Date  1 Mo  2 Mo  3 Mo  6 Mo  1 Yr  2 Yr  3 Yr  5 Yr  7 Yr  10 Yr  \\\n",
       "0     03/31/2022  0.17  0.35  0.52  1.06  1.63  2.28  2.45  2.42  2.40   2.32   \n",
       "1     03/30/2022  0.16  0.33  0.55  1.04  1.64  2.31  2.49  2.44  2.43   2.35   \n",
       "2     03/29/2022  0.18  0.34  0.55  1.06  1.67  2.35  2.54  2.49  2.50   2.41   \n",
       "3     03/28/2022  0.19  0.36  0.59  1.08  1.69  2.35  2.55  2.54  2.55   2.46   \n",
       "4     03/25/2022  0.17  0.32  0.55  1.01  1.67  2.30  2.51  2.55  2.56   2.48   \n",
       "...          ...   ...   ...   ...   ...   ...   ...   ...   ...   ...    ...   \n",
       "8060  01/16/1990   NaN   NaN  7.89  7.99  7.92  8.10  8.13  8.11  8.18   8.20   \n",
       "8061  01/12/1990   NaN   NaN  7.74  7.81  7.76  7.93  7.98  7.99  8.07   8.10   \n",
       "8062  01/11/1990   NaN   NaN  7.80  7.80  7.77  7.91  7.95  7.94  8.01   8.04   \n",
       "8063  01/10/1990   NaN   NaN  7.75  7.78  7.77  7.91  7.95  7.92  8.00   8.03   \n",
       "8064  01/09/1990   NaN   NaN  7.80  7.82  7.78  7.91  7.94  7.92  8.05   8.02   \n",
       "\n",
       "      20 Yr  30 Yr  \n",
       "0      2.59   2.44  \n",
       "1      2.63   2.48  \n",
       "2      2.68   2.53  \n",
       "3      2.72   2.57  \n",
       "4      2.74   2.60  \n",
       "...     ...    ...  \n",
       "8060    NaN   8.25  \n",
       "8061    NaN   8.17  \n",
       "8062    NaN   8.11  \n",
       "8063    NaN   8.11  \n",
       "8064    NaN   8.10  \n",
       "\n",
       "[8065 rows x 13 columns]"
      ]
     },
     "execution_count": 17,
     "metadata": {},
     "output_type": "execute_result"
    }
   ],
   "source": [
    "rates = pd.read_csv('daily-treasury-rates.csv')\n",
    "rates.head(-5)"
   ]
  },
  {
   "cell_type": "code",
   "execution_count": 18,
   "id": "e8fa0a8e",
   "metadata": {},
   "outputs": [
    {
     "data": {
      "text/html": [
       "<div>\n",
       "<style scoped>\n",
       "    .dataframe tbody tr th:only-of-type {\n",
       "        vertical-align: middle;\n",
       "    }\n",
       "\n",
       "    .dataframe tbody tr th {\n",
       "        vertical-align: top;\n",
       "    }\n",
       "\n",
       "    .dataframe thead th {\n",
       "        text-align: right;\n",
       "    }\n",
       "</style>\n",
       "<table border=\"1\" class=\"dataframe\">\n",
       "  <thead>\n",
       "    <tr style=\"text-align: right;\">\n",
       "      <th></th>\n",
       "      <th>Date</th>\n",
       "      <th>Open</th>\n",
       "      <th>High</th>\n",
       "      <th>Low</th>\n",
       "      <th>Close</th>\n",
       "    </tr>\n",
       "  </thead>\n",
       "  <tbody>\n",
       "    <tr>\n",
       "      <th>0</th>\n",
       "      <td>04/01/22</td>\n",
       "      <td>4540.32</td>\n",
       "      <td>4548.70</td>\n",
       "      <td>4507.57</td>\n",
       "      <td>4545.86</td>\n",
       "    </tr>\n",
       "    <tr>\n",
       "      <th>1</th>\n",
       "      <td>03/31/22</td>\n",
       "      <td>4599.02</td>\n",
       "      <td>4603.07</td>\n",
       "      <td>4530.41</td>\n",
       "      <td>4530.41</td>\n",
       "    </tr>\n",
       "    <tr>\n",
       "      <th>2</th>\n",
       "      <td>03/30/22</td>\n",
       "      <td>4624.20</td>\n",
       "      <td>4627.77</td>\n",
       "      <td>4581.32</td>\n",
       "      <td>4602.45</td>\n",
       "    </tr>\n",
       "    <tr>\n",
       "      <th>3</th>\n",
       "      <td>03/29/22</td>\n",
       "      <td>4602.86</td>\n",
       "      <td>4637.30</td>\n",
       "      <td>4589.66</td>\n",
       "      <td>4631.60</td>\n",
       "    </tr>\n",
       "    <tr>\n",
       "      <th>4</th>\n",
       "      <td>03/28/22</td>\n",
       "      <td>4541.09</td>\n",
       "      <td>4575.65</td>\n",
       "      <td>4517.69</td>\n",
       "      <td>4575.52</td>\n",
       "    </tr>\n",
       "    <tr>\n",
       "      <th>...</th>\n",
       "      <td>...</td>\n",
       "      <td>...</td>\n",
       "      <td>...</td>\n",
       "      <td>...</td>\n",
       "      <td>...</td>\n",
       "    </tr>\n",
       "    <tr>\n",
       "      <th>8116</th>\n",
       "      <td>01/16/90</td>\n",
       "      <td>340.75</td>\n",
       "      <td>340.75</td>\n",
       "      <td>333.37</td>\n",
       "      <td>340.75</td>\n",
       "    </tr>\n",
       "    <tr>\n",
       "      <th>8117</th>\n",
       "      <td>01/15/90</td>\n",
       "      <td>337.00</td>\n",
       "      <td>339.94</td>\n",
       "      <td>336.57</td>\n",
       "      <td>337.00</td>\n",
       "    </tr>\n",
       "    <tr>\n",
       "      <th>8118</th>\n",
       "      <td>01/12/90</td>\n",
       "      <td>339.93</td>\n",
       "      <td>348.53</td>\n",
       "      <td>339.49</td>\n",
       "      <td>339.93</td>\n",
       "    </tr>\n",
       "    <tr>\n",
       "      <th>8119</th>\n",
       "      <td>01/11/90</td>\n",
       "      <td>348.53</td>\n",
       "      <td>350.14</td>\n",
       "      <td>347.31</td>\n",
       "      <td>348.53</td>\n",
       "    </tr>\n",
       "    <tr>\n",
       "      <th>8120</th>\n",
       "      <td>01/10/90</td>\n",
       "      <td>347.31</td>\n",
       "      <td>349.62</td>\n",
       "      <td>344.32</td>\n",
       "      <td>347.31</td>\n",
       "    </tr>\n",
       "  </tbody>\n",
       "</table>\n",
       "<p>8121 rows × 5 columns</p>\n",
       "</div>"
      ],
      "text/plain": [
       "          Date     Open     High      Low    Close\n",
       "0     04/01/22  4540.32  4548.70  4507.57  4545.86\n",
       "1     03/31/22  4599.02  4603.07  4530.41  4530.41\n",
       "2     03/30/22  4624.20  4627.77  4581.32  4602.45\n",
       "3     03/29/22  4602.86  4637.30  4589.66  4631.60\n",
       "4     03/28/22  4541.09  4575.65  4517.69  4575.52\n",
       "...        ...      ...      ...      ...      ...\n",
       "8116  01/16/90   340.75   340.75   333.37   340.75\n",
       "8117  01/15/90   337.00   339.94   336.57   337.00\n",
       "8118  01/12/90   339.93   348.53   339.49   339.93\n",
       "8119  01/11/90   348.53   350.14   347.31   348.53\n",
       "8120  01/10/90   347.31   349.62   344.32   347.31\n",
       "\n",
       "[8121 rows x 5 columns]"
      ]
     },
     "execution_count": 18,
     "metadata": {},
     "output_type": "execute_result"
    }
   ],
   "source": [
    "spy = pd.read_csv('HistoricalPrices.csv')\n",
    "spy.head(-5)"
   ]
  },
  {
   "cell_type": "code",
   "execution_count": 19,
   "id": "d87a68a6",
   "metadata": {},
   "outputs": [],
   "source": [
    "# Converting to datetime"
   ]
  },
  {
   "cell_type": "code",
   "execution_count": 20,
   "id": "15f912fa",
   "metadata": {},
   "outputs": [],
   "source": [
    "rates['Date'] = pd.to_datetime(rates['Date'])\n",
    "spy['Date'] = pd.to_datetime(spy['Date'])"
   ]
  },
  {
   "cell_type": "code",
   "execution_count": 21,
   "id": "436d6081",
   "metadata": {},
   "outputs": [],
   "source": [
    "# Calculating the yield spread \n",
    "# three_month = 10 Yr - 3 Mo\n",
    "# two_year = 10 Yr - 2 Yr"
   ]
  },
  {
   "cell_type": "code",
   "execution_count": 22,
   "id": "678b7e94",
   "metadata": {},
   "outputs": [],
   "source": [
    "rates = rates.assign(three_month = rates['10 Yr'] - rates['3 Mo'], \n",
    "                     two_year = rates['10 Yr'] - rates['2 Yr'])"
   ]
  },
  {
   "cell_type": "code",
   "execution_count": 23,
   "id": "81d4df2e",
   "metadata": {},
   "outputs": [
    {
     "data": {
      "text/html": [
       "<div>\n",
       "<style scoped>\n",
       "    .dataframe tbody tr th:only-of-type {\n",
       "        vertical-align: middle;\n",
       "    }\n",
       "\n",
       "    .dataframe tbody tr th {\n",
       "        vertical-align: top;\n",
       "    }\n",
       "\n",
       "    .dataframe thead th {\n",
       "        text-align: right;\n",
       "    }\n",
       "</style>\n",
       "<table border=\"1\" class=\"dataframe\">\n",
       "  <thead>\n",
       "    <tr style=\"text-align: right;\">\n",
       "      <th></th>\n",
       "      <th>Date</th>\n",
       "      <th>1 Mo</th>\n",
       "      <th>2 Mo</th>\n",
       "      <th>3 Mo</th>\n",
       "      <th>6 Mo</th>\n",
       "      <th>1 Yr</th>\n",
       "      <th>2 Yr</th>\n",
       "      <th>3 Yr</th>\n",
       "      <th>5 Yr</th>\n",
       "      <th>7 Yr</th>\n",
       "      <th>10 Yr</th>\n",
       "      <th>20 Yr</th>\n",
       "      <th>30 Yr</th>\n",
       "      <th>three_month</th>\n",
       "      <th>two_year</th>\n",
       "    </tr>\n",
       "  </thead>\n",
       "  <tbody>\n",
       "    <tr>\n",
       "      <th>0</th>\n",
       "      <td>2022-03-31</td>\n",
       "      <td>0.17</td>\n",
       "      <td>0.35</td>\n",
       "      <td>0.52</td>\n",
       "      <td>1.06</td>\n",
       "      <td>1.63</td>\n",
       "      <td>2.28</td>\n",
       "      <td>2.45</td>\n",
       "      <td>2.42</td>\n",
       "      <td>2.40</td>\n",
       "      <td>2.32</td>\n",
       "      <td>2.59</td>\n",
       "      <td>2.44</td>\n",
       "      <td>1.80</td>\n",
       "      <td>0.04</td>\n",
       "    </tr>\n",
       "    <tr>\n",
       "      <th>1</th>\n",
       "      <td>2022-03-30</td>\n",
       "      <td>0.16</td>\n",
       "      <td>0.33</td>\n",
       "      <td>0.55</td>\n",
       "      <td>1.04</td>\n",
       "      <td>1.64</td>\n",
       "      <td>2.31</td>\n",
       "      <td>2.49</td>\n",
       "      <td>2.44</td>\n",
       "      <td>2.43</td>\n",
       "      <td>2.35</td>\n",
       "      <td>2.63</td>\n",
       "      <td>2.48</td>\n",
       "      <td>1.80</td>\n",
       "      <td>0.04</td>\n",
       "    </tr>\n",
       "    <tr>\n",
       "      <th>2</th>\n",
       "      <td>2022-03-29</td>\n",
       "      <td>0.18</td>\n",
       "      <td>0.34</td>\n",
       "      <td>0.55</td>\n",
       "      <td>1.06</td>\n",
       "      <td>1.67</td>\n",
       "      <td>2.35</td>\n",
       "      <td>2.54</td>\n",
       "      <td>2.49</td>\n",
       "      <td>2.50</td>\n",
       "      <td>2.41</td>\n",
       "      <td>2.68</td>\n",
       "      <td>2.53</td>\n",
       "      <td>1.86</td>\n",
       "      <td>0.06</td>\n",
       "    </tr>\n",
       "    <tr>\n",
       "      <th>3</th>\n",
       "      <td>2022-03-28</td>\n",
       "      <td>0.19</td>\n",
       "      <td>0.36</td>\n",
       "      <td>0.59</td>\n",
       "      <td>1.08</td>\n",
       "      <td>1.69</td>\n",
       "      <td>2.35</td>\n",
       "      <td>2.55</td>\n",
       "      <td>2.54</td>\n",
       "      <td>2.55</td>\n",
       "      <td>2.46</td>\n",
       "      <td>2.72</td>\n",
       "      <td>2.57</td>\n",
       "      <td>1.87</td>\n",
       "      <td>0.11</td>\n",
       "    </tr>\n",
       "    <tr>\n",
       "      <th>4</th>\n",
       "      <td>2022-03-25</td>\n",
       "      <td>0.17</td>\n",
       "      <td>0.32</td>\n",
       "      <td>0.55</td>\n",
       "      <td>1.01</td>\n",
       "      <td>1.67</td>\n",
       "      <td>2.30</td>\n",
       "      <td>2.51</td>\n",
       "      <td>2.55</td>\n",
       "      <td>2.56</td>\n",
       "      <td>2.48</td>\n",
       "      <td>2.74</td>\n",
       "      <td>2.60</td>\n",
       "      <td>1.93</td>\n",
       "      <td>0.18</td>\n",
       "    </tr>\n",
       "  </tbody>\n",
       "</table>\n",
       "</div>"
      ],
      "text/plain": [
       "        Date  1 Mo  2 Mo  3 Mo  6 Mo  1 Yr  2 Yr  3 Yr  5 Yr  7 Yr  10 Yr  \\\n",
       "0 2022-03-31  0.17  0.35  0.52  1.06  1.63  2.28  2.45  2.42  2.40   2.32   \n",
       "1 2022-03-30  0.16  0.33  0.55  1.04  1.64  2.31  2.49  2.44  2.43   2.35   \n",
       "2 2022-03-29  0.18  0.34  0.55  1.06  1.67  2.35  2.54  2.49  2.50   2.41   \n",
       "3 2022-03-28  0.19  0.36  0.59  1.08  1.69  2.35  2.55  2.54  2.55   2.46   \n",
       "4 2022-03-25  0.17  0.32  0.55  1.01  1.67  2.30  2.51  2.55  2.56   2.48   \n",
       "\n",
       "   20 Yr  30 Yr  three_month  two_year  \n",
       "0   2.59   2.44         1.80      0.04  \n",
       "1   2.63   2.48         1.80      0.04  \n",
       "2   2.68   2.53         1.86      0.06  \n",
       "3   2.72   2.57         1.87      0.11  \n",
       "4   2.74   2.60         1.93      0.18  "
      ]
     },
     "execution_count": 23,
     "metadata": {},
     "output_type": "execute_result"
    }
   ],
   "source": [
    "rates.head(5)"
   ]
  },
  {
   "cell_type": "code",
   "execution_count": 24,
   "id": "015c1dc3",
   "metadata": {},
   "outputs": [],
   "source": [
    "# Comparing Yield Curve for popular rate terms"
   ]
  },
  {
   "cell_type": "code",
   "execution_count": 25,
   "id": "7f9dbd54",
   "metadata": {},
   "outputs": [
    {
     "data": {
      "text/html": [
       "<div>\n",
       "<style scoped>\n",
       "    .dataframe tbody tr th:only-of-type {\n",
       "        vertical-align: middle;\n",
       "    }\n",
       "\n",
       "    .dataframe tbody tr th {\n",
       "        vertical-align: top;\n",
       "    }\n",
       "\n",
       "    .dataframe thead th {\n",
       "        text-align: right;\n",
       "    }\n",
       "</style>\n",
       "<table border=\"1\" class=\"dataframe\">\n",
       "  <thead>\n",
       "    <tr style=\"text-align: right;\">\n",
       "      <th></th>\n",
       "      <th>1 Mo</th>\n",
       "      <th>3 Mo</th>\n",
       "      <th>6 Mo</th>\n",
       "      <th>1 Yr</th>\n",
       "      <th>2 Yr</th>\n",
       "      <th>5 Yr</th>\n",
       "      <th>10 Yr</th>\n",
       "      <th>30 Yr</th>\n",
       "    </tr>\n",
       "    <tr>\n",
       "      <th>Date</th>\n",
       "      <th></th>\n",
       "      <th></th>\n",
       "      <th></th>\n",
       "      <th></th>\n",
       "      <th></th>\n",
       "      <th></th>\n",
       "      <th></th>\n",
       "      <th></th>\n",
       "    </tr>\n",
       "  </thead>\n",
       "  <tbody>\n",
       "    <tr>\n",
       "      <th>2022-03-31</th>\n",
       "      <td>0.17</td>\n",
       "      <td>0.52</td>\n",
       "      <td>1.06</td>\n",
       "      <td>1.63</td>\n",
       "      <td>2.28</td>\n",
       "      <td>2.42</td>\n",
       "      <td>2.32</td>\n",
       "      <td>2.44</td>\n",
       "    </tr>\n",
       "    <tr>\n",
       "      <th>2022-03-30</th>\n",
       "      <td>0.16</td>\n",
       "      <td>0.55</td>\n",
       "      <td>1.04</td>\n",
       "      <td>1.64</td>\n",
       "      <td>2.31</td>\n",
       "      <td>2.44</td>\n",
       "      <td>2.35</td>\n",
       "      <td>2.48</td>\n",
       "    </tr>\n",
       "    <tr>\n",
       "      <th>2022-03-29</th>\n",
       "      <td>0.18</td>\n",
       "      <td>0.55</td>\n",
       "      <td>1.06</td>\n",
       "      <td>1.67</td>\n",
       "      <td>2.35</td>\n",
       "      <td>2.49</td>\n",
       "      <td>2.41</td>\n",
       "      <td>2.53</td>\n",
       "    </tr>\n",
       "    <tr>\n",
       "      <th>2022-03-28</th>\n",
       "      <td>0.19</td>\n",
       "      <td>0.59</td>\n",
       "      <td>1.08</td>\n",
       "      <td>1.69</td>\n",
       "      <td>2.35</td>\n",
       "      <td>2.54</td>\n",
       "      <td>2.46</td>\n",
       "      <td>2.57</td>\n",
       "    </tr>\n",
       "    <tr>\n",
       "      <th>2022-03-25</th>\n",
       "      <td>0.17</td>\n",
       "      <td>0.55</td>\n",
       "      <td>1.01</td>\n",
       "      <td>1.67</td>\n",
       "      <td>2.30</td>\n",
       "      <td>2.55</td>\n",
       "      <td>2.48</td>\n",
       "      <td>2.60</td>\n",
       "    </tr>\n",
       "    <tr>\n",
       "      <th>...</th>\n",
       "      <td>...</td>\n",
       "      <td>...</td>\n",
       "      <td>...</td>\n",
       "      <td>...</td>\n",
       "      <td>...</td>\n",
       "      <td>...</td>\n",
       "      <td>...</td>\n",
       "      <td>...</td>\n",
       "    </tr>\n",
       "    <tr>\n",
       "      <th>1990-01-08</th>\n",
       "      <td>NaN</td>\n",
       "      <td>7.79</td>\n",
       "      <td>7.88</td>\n",
       "      <td>7.81</td>\n",
       "      <td>7.90</td>\n",
       "      <td>7.92</td>\n",
       "      <td>8.02</td>\n",
       "      <td>8.09</td>\n",
       "    </tr>\n",
       "    <tr>\n",
       "      <th>1990-01-05</th>\n",
       "      <td>NaN</td>\n",
       "      <td>7.79</td>\n",
       "      <td>7.85</td>\n",
       "      <td>7.79</td>\n",
       "      <td>7.90</td>\n",
       "      <td>7.92</td>\n",
       "      <td>7.99</td>\n",
       "      <td>8.06</td>\n",
       "    </tr>\n",
       "    <tr>\n",
       "      <th>1990-01-04</th>\n",
       "      <td>NaN</td>\n",
       "      <td>7.84</td>\n",
       "      <td>7.90</td>\n",
       "      <td>7.82</td>\n",
       "      <td>7.92</td>\n",
       "      <td>7.91</td>\n",
       "      <td>7.98</td>\n",
       "      <td>8.04</td>\n",
       "    </tr>\n",
       "    <tr>\n",
       "      <th>1990-01-03</th>\n",
       "      <td>NaN</td>\n",
       "      <td>7.89</td>\n",
       "      <td>7.94</td>\n",
       "      <td>7.85</td>\n",
       "      <td>7.94</td>\n",
       "      <td>7.92</td>\n",
       "      <td>7.99</td>\n",
       "      <td>8.04</td>\n",
       "    </tr>\n",
       "    <tr>\n",
       "      <th>1990-01-02</th>\n",
       "      <td>NaN</td>\n",
       "      <td>7.83</td>\n",
       "      <td>7.89</td>\n",
       "      <td>7.81</td>\n",
       "      <td>7.87</td>\n",
       "      <td>7.87</td>\n",
       "      <td>7.94</td>\n",
       "      <td>8.00</td>\n",
       "    </tr>\n",
       "  </tbody>\n",
       "</table>\n",
       "<p>8070 rows × 8 columns</p>\n",
       "</div>"
      ],
      "text/plain": [
       "            1 Mo  3 Mo  6 Mo  1 Yr  2 Yr  5 Yr  10 Yr  30 Yr\n",
       "Date                                                        \n",
       "2022-03-31  0.17  0.52  1.06  1.63  2.28  2.42   2.32   2.44\n",
       "2022-03-30  0.16  0.55  1.04  1.64  2.31  2.44   2.35   2.48\n",
       "2022-03-29  0.18  0.55  1.06  1.67  2.35  2.49   2.41   2.53\n",
       "2022-03-28  0.19  0.59  1.08  1.69  2.35  2.54   2.46   2.57\n",
       "2022-03-25  0.17  0.55  1.01  1.67  2.30  2.55   2.48   2.60\n",
       "...          ...   ...   ...   ...   ...   ...    ...    ...\n",
       "1990-01-08   NaN  7.79  7.88  7.81  7.90  7.92   8.02   8.09\n",
       "1990-01-05   NaN  7.79  7.85  7.79  7.90  7.92   7.99   8.06\n",
       "1990-01-04   NaN  7.84  7.90  7.82  7.92  7.91   7.98   8.04\n",
       "1990-01-03   NaN  7.89  7.94  7.85  7.94  7.92   7.99   8.04\n",
       "1990-01-02   NaN  7.83  7.89  7.81  7.87  7.87   7.94   8.00\n",
       "\n",
       "[8070 rows x 8 columns]"
      ]
     },
     "execution_count": 25,
     "metadata": {},
     "output_type": "execute_result"
    }
   ],
   "source": [
    "rates1 = rates[['Date' ,'1 Mo', '3 Mo', '6 Mo', '1 Yr', '2 Yr', '5 Yr', '10 Yr', '30 Yr']]\n",
    "rates1.set_index('Date')"
   ]
  },
  {
   "cell_type": "code",
   "execution_count": 26,
   "id": "f317c9d5",
   "metadata": {},
   "outputs": [],
   "source": [
    "# current = rates1.iloc[1,:] # Most recent data is first\n",
    "# last_quarter = rates1.iloc[63,:] # 63 Trading Days in a quarter\n",
    "# last_year = rates1.iloc[252,:] # 252 Trading Days in a year"
   ]
  },
  {
   "cell_type": "code",
   "execution_count": 27,
   "id": "7ffa5f7c",
   "metadata": {},
   "outputs": [],
   "source": [
    "# current.head()"
   ]
  },
  {
   "cell_type": "code",
   "execution_count": 28,
   "id": "04be8598",
   "metadata": {},
   "outputs": [
    {
     "data": {
      "text/html": [
       "<div>\n",
       "<style scoped>\n",
       "    .dataframe tbody tr th:only-of-type {\n",
       "        vertical-align: middle;\n",
       "    }\n",
       "\n",
       "    .dataframe tbody tr th {\n",
       "        vertical-align: top;\n",
       "    }\n",
       "\n",
       "    .dataframe thead th {\n",
       "        text-align: right;\n",
       "    }\n",
       "</style>\n",
       "<table border=\"1\" class=\"dataframe\">\n",
       "  <thead>\n",
       "    <tr style=\"text-align: right;\">\n",
       "      <th></th>\n",
       "      <th>0</th>\n",
       "    </tr>\n",
       "  </thead>\n",
       "  <tbody>\n",
       "    <tr>\n",
       "      <th>Date</th>\n",
       "      <td>2022-03-31 00:00:00</td>\n",
       "    </tr>\n",
       "    <tr>\n",
       "      <th>1 Mo</th>\n",
       "      <td>0.17</td>\n",
       "    </tr>\n",
       "    <tr>\n",
       "      <th>3 Mo</th>\n",
       "      <td>0.52</td>\n",
       "    </tr>\n",
       "    <tr>\n",
       "      <th>6 Mo</th>\n",
       "      <td>1.06</td>\n",
       "    </tr>\n",
       "    <tr>\n",
       "      <th>1 Yr</th>\n",
       "      <td>1.63</td>\n",
       "    </tr>\n",
       "  </tbody>\n",
       "</table>\n",
       "</div>"
      ],
      "text/plain": [
       "                        0\n",
       "Date  2022-03-31 00:00:00\n",
       "1 Mo                 0.17\n",
       "3 Mo                 0.52\n",
       "6 Mo                 1.06\n",
       "1 Yr                 1.63"
      ]
     },
     "execution_count": 28,
     "metadata": {},
     "output_type": "execute_result"
    }
   ],
   "source": [
    "current = rates1.loc[(rates['Date'] =='2022-03-31')].T\n",
    "last_quarter = rates1.loc[(rates1['Date'] == '2021-12-31')].T\n",
    "last_year = rates1.loc[(rates1['Date'] == '2021-03-31')].T\n",
    "\n",
    "current.head()\n"
   ]
  },
  {
   "cell_type": "code",
   "execution_count": 29,
   "id": "69d7a755",
   "metadata": {},
   "outputs": [
    {
     "data": {
      "text/html": [
       "<div>\n",
       "<style scoped>\n",
       "    .dataframe tbody tr th:only-of-type {\n",
       "        vertical-align: middle;\n",
       "    }\n",
       "\n",
       "    .dataframe tbody tr th {\n",
       "        vertical-align: top;\n",
       "    }\n",
       "\n",
       "    .dataframe thead th {\n",
       "        text-align: right;\n",
       "    }\n",
       "</style>\n",
       "<table border=\"1\" class=\"dataframe\">\n",
       "  <thead>\n",
       "    <tr style=\"text-align: right;\">\n",
       "      <th></th>\n",
       "      <th>current</th>\n",
       "      <th>last_quarter</th>\n",
       "      <th>last_year</th>\n",
       "    </tr>\n",
       "  </thead>\n",
       "  <tbody>\n",
       "    <tr>\n",
       "      <th>Date</th>\n",
       "      <td>2022-03-31 00:00:00</td>\n",
       "      <td>2021-12-31 00:00:00</td>\n",
       "      <td>2021-03-31 00:00:00</td>\n",
       "    </tr>\n",
       "    <tr>\n",
       "      <th>1 Mo</th>\n",
       "      <td>0.17</td>\n",
       "      <td>0.06</td>\n",
       "      <td>0.01</td>\n",
       "    </tr>\n",
       "    <tr>\n",
       "      <th>3 Mo</th>\n",
       "      <td>0.52</td>\n",
       "      <td>0.06</td>\n",
       "      <td>0.03</td>\n",
       "    </tr>\n",
       "    <tr>\n",
       "      <th>6 Mo</th>\n",
       "      <td>1.06</td>\n",
       "      <td>0.19</td>\n",
       "      <td>0.05</td>\n",
       "    </tr>\n",
       "    <tr>\n",
       "      <th>1 Yr</th>\n",
       "      <td>1.63</td>\n",
       "      <td>0.39</td>\n",
       "      <td>0.07</td>\n",
       "    </tr>\n",
       "  </tbody>\n",
       "</table>\n",
       "</div>"
      ],
      "text/plain": [
       "                  current         last_quarter            last_year\n",
       "Date  2022-03-31 00:00:00  2021-12-31 00:00:00  2021-03-31 00:00:00\n",
       "1 Mo                 0.17                 0.06                 0.01\n",
       "3 Mo                 0.52                 0.06                 0.03\n",
       "6 Mo                 1.06                 0.19                 0.05\n",
       "1 Yr                 1.63                 0.39                 0.07"
      ]
     },
     "execution_count": 29,
     "metadata": {},
     "output_type": "execute_result"
    }
   ],
   "source": [
    "df = pd.concat([current, last_quarter, last_year], axis = 1)\n",
    "df.columns = ['current', 'last_quarter', 'last_year']\n",
    "df.head()"
   ]
  },
  {
   "cell_type": "code",
   "execution_count": 30,
   "id": "61e00da9",
   "metadata": {},
   "outputs": [],
   "source": [
    "df = df.iloc[1:, :]"
   ]
  },
  {
   "cell_type": "code",
   "execution_count": 31,
   "id": "c3bb0e05",
   "metadata": {},
   "outputs": [],
   "source": [
    "df.columns = ['03-31-2022', '12-31-2021', '03-31-2021']"
   ]
  },
  {
   "cell_type": "code",
   "execution_count": 32,
   "id": "63d91e66",
   "metadata": {},
   "outputs": [
    {
     "data": {
      "text/plain": [
       "Text(0, 0.5, 'Yield in Percent')"
      ]
     },
     "execution_count": 32,
     "metadata": {},
     "output_type": "execute_result"
    },
    {
     "data": {
      "image/png": "[encoded data removed]",
      "text/plain": [
       "<Figure size 432x288 with 1 Axes>"
      ]
     },
     "metadata": {
      "needs_background": "light"
     },
     "output_type": "display_data"
    }
   ],
   "source": [
    "\n",
    "ax = df.plot(style={'03-31-2022': 'ro--', '12-31-2021': 'bx--', '03-31-2021': 'g^-'}, title='Yield Curve')\n",
    "ax.set_xlabel('Maturities')\n",
    "ax.set_ylabel('Yield in Percent')\n",
    "\n",
    "# plt.savefig('Yield Curve.png')"
   ]
  },
  {
   "cell_type": "code",
   "execution_count": 33,
   "id": "3122e396",
   "metadata": {},
   "outputs": [],
   "source": [
    "# Joining data for rates and SP500 close price together"
   ]
  },
  {
   "cell_type": "code",
   "execution_count": 34,
   "id": "e80e0e76",
   "metadata": {},
   "outputs": [],
   "source": [
    "together = pd.merge(rates, spy, how ='left', on = 'Date') "
   ]
  },
  {
   "cell_type": "code",
   "execution_count": 35,
   "id": "0dd7e3bd",
   "metadata": {},
   "outputs": [
    {
     "data": {
      "text/plain": [
       "Date              0\n",
       "1 Mo           2900\n",
       "2 Mo           7205\n",
       "3 Mo              4\n",
       "6 Mo              1\n",
       "1 Yr              1\n",
       "2 Yr              1\n",
       "3 Yr              1\n",
       "5 Yr              1\n",
       "7 Yr              1\n",
       "10 Yr             1\n",
       "20 Yr           940\n",
       "30 Yr           995\n",
       "three_month       4\n",
       "two_year          1\n",
       " Open            12\n",
       " High            12\n",
       " Low             12\n",
       " Close           12\n",
       "dtype: int64"
      ]
     },
     "execution_count": 35,
     "metadata": {},
     "output_type": "execute_result"
    }
   ],
   "source": [
    "# Checking for missing values\n",
    "together.isnull().sum()"
   ]
  },
  {
   "cell_type": "code",
   "execution_count": 36,
   "id": "4af4af24",
   "metadata": {},
   "outputs": [],
   "source": [
    "# Since this project isn't focused on 1 Mo and 2 Mo rate spreads, I will be ignoring those null values\n",
    "# Therefore, I decided to first create a new variable that contains the values I am interested in"
   ]
  },
  {
   "cell_type": "code",
   "execution_count": 37,
   "id": "d13fc01f",
   "metadata": {},
   "outputs": [],
   "source": [
    "spread = together[['Date', 'three_month', 'two_year', ' Close']]"
   ]
  },
  {
   "cell_type": "code",
   "execution_count": 38,
   "id": "a769f4a9",
   "metadata": {},
   "outputs": [],
   "source": [
    "# Now, I replace the missing values\n",
    "# Since this data is gathered daily, and the bigger picture timeframe is larger\n",
    "# I decided it is probably okay to remove the NA values (since there's not too many)"
   ]
  },
  {
   "cell_type": "code",
   "execution_count": 39,
   "id": "dbd79d8c",
   "metadata": {},
   "outputs": [],
   "source": [
    "spread = spread.dropna(axis = 0, how = 'any')"
   ]
  },
  {
   "cell_type": "code",
   "execution_count": 40,
   "id": "3f19a800",
   "metadata": {
    "scrolled": true
   },
   "outputs": [
    {
     "data": {
      "text/plain": [
       "Date           0\n",
       "three_month    0\n",
       "two_year       0\n",
       " Close         0\n",
       "dtype: int64"
      ]
     },
     "execution_count": 40,
     "metadata": {},
     "output_type": "execute_result"
    }
   ],
   "source": [
    "# Double checking if null values were removed\n",
    "spread.isnull().sum()"
   ]
  },
  {
   "cell_type": "code",
   "execution_count": 41,
   "id": "0b9721b2",
   "metadata": {},
   "outputs": [],
   "source": [
    "# Comparing Term Spreads"
   ]
  },
  {
   "cell_type": "code",
   "execution_count": 42,
   "id": "1c53b788",
   "metadata": {},
   "outputs": [
    {
     "data": {
      "text/plain": [
       "Text(0.5, 1.0, 'Yield Terms over Time')"
      ]
     },
     "execution_count": 42,
     "metadata": {},
     "output_type": "execute_result"
    },
    {
     "data": {
      "image/png": "[encoded data removed]",
      "text/plain": [
       "<Figure size 1152x576 with 1 Axes>"
      ]
     },
     "metadata": {
      "needs_background": "light"
     },
     "output_type": "display_data"
    }
   ],
   "source": [
    "fig, ax = plt.subplots(figsize=(16, 8))\n",
    "\n",
    "plt.plot(spread['Date'],\n",
    "        spread['three_month'], \n",
    "         color = 'b', \n",
    "         label = '3 Mo and 10 Yr Spread')\n",
    "plt.plot(spread['Date'], \n",
    "         spread['two_year'], \n",
    "         color = 'r', \n",
    "         label = '2 Yr and 10 Yr Spread')\n",
    "\n",
    "ax.grid(True)\n",
    "plt.axhline(0)\n",
    "plt.legend()\n",
    "\n",
    "\n",
    "# labels\n",
    "ax.set_xlabel('Time')\n",
    "ax.set_ylabel('Yield Spread')\n",
    "plt.title('Yield Terms over Time')\n",
    "\n",
    "# plt.savefig('3mo_2Yr_Yield_Spreads.png')"
   ]
  },
  {
   "cell_type": "code",
   "execution_count": 43,
   "id": "faba2092",
   "metadata": {},
   "outputs": [],
   "source": [
    "# They follow the same shape...so we shall focus on 3 Mo and 10 Yr Spread"
   ]
  },
  {
   "cell_type": "code",
   "execution_count": 44,
   "id": "aae30ab5",
   "metadata": {},
   "outputs": [],
   "source": [
    "# Finding the intervals when the spread is inverted"
   ]
  },
  {
   "cell_type": "code",
   "execution_count": 45,
   "id": "2eeb529e",
   "metadata": {},
   "outputs": [],
   "source": [
    "def find_invert_intervals (spread, tag):\n",
    "    in_intervals = []\n",
    "    in_invert = False\n",
    "    in_max = 0.0\n",
    "    in_start = -1\n",
    "    in_end = -1\n",
    "    for ind in spread.index:\n",
    "        #print(ind, spread['Date'][ind], spread['three_month'][ind])\n",
    "        if spread[tag][ind] < 0.0:\n",
    "            #print(ind, spread['Date'][ind], spread['three_month'][ind])\n",
    "            if not in_invert:\n",
    "                in_start = ind\n",
    "                in_invert = True\n",
    "          \n",
    "            if abs(spread[tag][ind]) > in_max:\n",
    "                in_max = abs(spread[tag][ind])\n",
    "        elif spread[tag][ind] > 0.0:\n",
    "            #print(ind, spread['Date'][ind], spread['three_month'][ind])\n",
    "            if in_invert:\n",
    "                in_end = ind - 1\n",
    "                in_invert = False\n",
    "                #print((in_start, in_end))\n",
    "                in_intervals.append((spread['Date'][in_start], \n",
    "                                    spread['Date'][in_end],\n",
    "                                    (spread['Date'][in_end] \n",
    "                                    -spread['Date'][in_start]).days + 1,\n",
    "                                    round(in_max,4)\n",
    "                                    ))\n",
    "                in_max = 0.0\n",
    "\n",
    "  \n",
    "    return in_intervals"
   ]
  },
  {
   "cell_type": "code",
   "execution_count": 46,
   "id": "a2d0808e",
   "metadata": {},
   "outputs": [],
   "source": [
    "spread=spread.sort_values('Date')\n",
    "m3_intervals = find_invert_intervals(spread, 'three_month')"
   ]
  },
  {
   "cell_type": "code",
   "execution_count": 47,
   "id": "7031dd63",
   "metadata": {},
   "outputs": [],
   "source": [
    "# Load in Recession Data\n",
    "# https://fred.stlouisfed.org/series/JHDUSRGDPBR"
   ]
  },
  {
   "cell_type": "code",
   "execution_count": 48,
   "id": "60bde5e2",
   "metadata": {},
   "outputs": [],
   "source": [
    "resdata = pd.read_csv('JHDUSRGDPBR.csv')\n",
    "\n",
    "resdata = resdata.rename(columns={'DATE':'Date','JHDUSRGDPBR':'Recession'})\n",
    "resdata['Date'] = pd.to_datetime(resdata['Date'])"
   ]
  },
  {
   "cell_type": "code",
   "execution_count": 49,
   "id": "f5745194",
   "metadata": {},
   "outputs": [],
   "source": [
    "cut_off_date = '1990-01-01'\n",
    "resdata = resdata[resdata['Date'] > cut_off_date]"
   ]
  },
  {
   "cell_type": "code",
   "execution_count": 50,
   "id": "b2add4b6",
   "metadata": {},
   "outputs": [],
   "source": [
    "# Finding Recession Interval"
   ]
  },
  {
   "cell_type": "code",
   "execution_count": 51,
   "id": "800afee1",
   "metadata": {},
   "outputs": [],
   "source": [
    "rec_interval = []\n",
    "in_rec = False\n",
    "rec_start = -1\n",
    "rec_end = -1\n",
    "\n",
    "for ind in resdata.index:\n",
    "    if resdata['Recession'][ind] > 0.0:\n",
    "        if not in_rec:\n",
    "            rec_start = ind\n",
    "            in_rec = True\n",
    "    else:\n",
    "        if in_rec:\n",
    "            rec_end = ind \n",
    "            in_rec = False\n",
    "            rec_interval.append((resdata['Date'][rec_start],\n",
    "                                 resdata['Date'][rec_end]))"
   ]
  },
  {
   "cell_type": "code",
   "execution_count": 52,
   "id": "cf8774c4",
   "metadata": {},
   "outputs": [],
   "source": [
    "#print(rec_interval)"
   ]
  },
  {
   "cell_type": "code",
   "execution_count": 53,
   "id": "689b4978",
   "metadata": {},
   "outputs": [],
   "source": [
    "# Plotting 3 Month Spread and highlighting when Recession was"
   ]
  },
  {
   "cell_type": "code",
   "execution_count": 54,
   "id": "921ba56e",
   "metadata": {},
   "outputs": [
    {
     "data": {
      "image/png": "[encoded data removed]",
      "text/plain": [
       "<Figure size 1152x576 with 2 Axes>"
      ]
     },
     "metadata": {
      "needs_background": "light"
     },
     "output_type": "display_data"
    }
   ],
   "source": [
    "fig, ax = plt.subplots(figsize=(16, 8))\n",
    "\n",
    "plt.plot(spread['Date'],\n",
    "        spread['three_month'], \n",
    "         color = 'b', \n",
    "         label = '10 yr and 3 Mo Spread')\n",
    "\n",
    "for s, e in rec_interval:\n",
    "    plt.axvspan(s, \n",
    "                e, \n",
    "                color=\"grey\", \n",
    "                alpha=0.3)\n",
    "\n",
    "    plt.axhline(0)\n",
    "handles, labels = ax.get_legend_handles_labels()\n",
    "patch = mpatches.Patch(color = 'grey', label = 'Recession')\n",
    "handles.append(patch)\n",
    "\n",
    "plt.legend(handles = handles)\n",
    "\n",
    "\n",
    "# Getting Second Axis\n",
    "ax2 = ax.twinx()\n",
    "plt.plot(spread['Date'],\n",
    "        spread[' Close'],\n",
    "        color = 'g', \n",
    "        linewidth=1,\n",
    "         label = 'S&P 500')\n",
    "ax2.set_ylabel('S&P500 Price')\n",
    "ax2.legend()\n",
    "\n",
    "# labels\n",
    "ax.set_xlabel('Time')\n",
    "ax.set_ylabel('Yield Spread in Percent')\n",
    "plt.title('10 year to 3 Month Spread and SPY over time')\n",
    "ax.grid(True)\n",
    "\n",
    "plt.savefig('spread_and_spy.png')\n",
    "\n"
   ]
  },
  {
   "cell_type": "code",
   "execution_count": null,
   "id": "ee46c3f7",
   "metadata": {},
   "outputs": [],
   "source": []
  },
  {
   "cell_type": "code",
   "execution_count": null,
   "id": "d3665a38",
   "metadata": {},
   "outputs": [],
   "source": []
  },
  {
   "cell_type": "code",
   "execution_count": 55,
   "id": "8929c644",
   "metadata": {},
   "outputs": [],
   "source": [
    "# Did not have data pre 01-01-1990, so there could have been inversion prior to Recession in 1990."
   ]
  },
  {
   "cell_type": "code",
   "execution_count": 56,
   "id": "dc6cd1a5",
   "metadata": {},
   "outputs": [],
   "source": [
    "# Function for computing percent return of SPY "
   ]
  },
  {
   "cell_type": "code",
   "execution_count": 57,
   "id": "aeb3b4ab",
   "metadata": {},
   "outputs": [],
   "source": [
    "def compute_return_pct (price_start, price_end):\n",
    "    return ((price_end - price_start) / price_start ) * 100.0"
   ]
  },
  {
   "cell_type": "code",
   "execution_count": 58,
   "id": "9a77bc51",
   "metadata": {},
   "outputs": [],
   "source": [
    "# Function for finding Prices of Spy on certain dates"
   ]
  },
  {
   "cell_type": "code",
   "execution_count": 59,
   "id": "3d03d2cb",
   "metadata": {},
   "outputs": [],
   "source": [
    "def compute_sp_fowrard_return(start_date, num_months, spdf):\n",
    "    from datetime import timedelta\n",
    "    price_s = spdf[' Close'].loc[(spdf['Date'] == start_date)].values[0]\n",
    "    end_date = start_date + timedelta(days=num_months*30)\n",
    "    #print(end_date)\n",
    "    maxDate=spdf['Date'][spdf['Date'].idxmax()]\n",
    "    while spdf[' Close'].loc[(spdf['Date'] == end_date)].size < 1:\n",
    "        end_date = end_date + timedelta(days=1)\n",
    "        if end_date > maxDate:\n",
    "            end_date = maxDate\n",
    "    price_e = spdf[' Close'].loc[(spdf['Date'] == end_date)].values[0]\n",
    "    return compute_return_pct(price_s, price_e)"
   ]
  },
  {
   "cell_type": "code",
   "execution_count": 60,
   "id": "ce8d12e0",
   "metadata": {},
   "outputs": [],
   "source": [
    "# Finding Inversion Dates and pairing with SPY returns"
   ]
  },
  {
   "cell_type": "code",
   "execution_count": 61,
   "id": "186c1bd0",
   "metadata": {},
   "outputs": [],
   "source": [
    "def compute_invert_metrics(in_intervals, resdata, spdf):\n",
    "    metrics_ls=[]\n",
    "    for s,e,d,m in in_intervals:\n",
    "        metrics={}\n",
    "        metrics['Start Date']= s\n",
    "        metrics['End Date'] = e \n",
    "        metrics['Invert Duration'] = (e -s).days + 1 \n",
    "        s_date = s\n",
    "        #print(s_date)\n",
    "        rs_index =(resdata.index[(resdata['Date'] >= s_date) \n",
    "              & (resdata['Recession'].gt(0.0))].tolist())[0]\n",
    "        r_start = resdata['Date'][rs_index]\n",
    "   \n",
    "        metrics['Rec. Start'] = r_start\n",
    "        metrics['Latency'] = (r_start - s_date).days + 1\n",
    "        re_index =(resdata.index[(resdata['Date'] >= r_start) \n",
    "              & (resdata['Recession'].le(0.0))].tolist())[0]\n",
    "        r_end = resdata['Date'][re_index -1]\n",
    "        #e_recs=resdata.loc[(resdata['Date'] >= s_rstart) & (resdata['Recession'].le(0.0))]\n",
    " \n",
    "        metrics['Rec. End'] = r_end\n",
    "        metrics['Rec. Duration'] = ((r_end - r_start).days)/30 + 1\n",
    "        metrics['sp_return_6m'] = compute_sp_fowrard_return(s_date, 6, spdf )\n",
    "        metrics['sp_return_1yr'] = compute_sp_fowrard_return(s_date, 12, spdf )\n",
    "        metrics['sp_return_2yr'] = compute_sp_fowrard_return(s_date, 24, spdf )\n",
    "        #print(metrics)\n",
    "        metrics_ls.append(metrics)\n",
    "    \n",
    "    invert_df = pd.DataFrame.from_records( metrics_ls)\n",
    "\n",
    "    invert_df['Start Date'] = pd.to_datetime(invert_df['Start Date'])\n",
    "    invert_df['End Date'] = pd.to_datetime(invert_df['End Date'])\n",
    "    \n",
    "    return invert_df"
   ]
  },
  {
   "cell_type": "code",
   "execution_count": 62,
   "id": "4cf754ea",
   "metadata": {},
   "outputs": [
    {
     "data": {
      "text/plain": [
       "Timestamp('2022-03-31 00:00:00')"
      ]
     },
     "execution_count": 62,
     "metadata": {},
     "output_type": "execute_result"
    }
   ],
   "source": [
    "spread['Date'] = pd.to_datetime(spread['Date'])\n",
    "spdf=spread[['Date', ' Close']]\n",
    "spdf.head(5)\n",
    "#spdf[' Close'].loc[(spdf['Date'] =='1999-09-07')].values[0]\n",
    "spdf['Date'][spdf['Date'].idxmax()]"
   ]
  },
  {
   "cell_type": "code",
   "execution_count": 63,
   "id": "ea82b93b",
   "metadata": {
    "scrolled": false
   },
   "outputs": [
    {
     "data": {
      "text/html": [
       "<div>\n",
       "<style scoped>\n",
       "    .dataframe tbody tr th:only-of-type {\n",
       "        vertical-align: middle;\n",
       "    }\n",
       "\n",
       "    .dataframe tbody tr th {\n",
       "        vertical-align: top;\n",
       "    }\n",
       "\n",
       "    .dataframe thead th {\n",
       "        text-align: right;\n",
       "    }\n",
       "</style>\n",
       "<table border=\"1\" class=\"dataframe\">\n",
       "  <thead>\n",
       "    <tr style=\"text-align: right;\">\n",
       "      <th></th>\n",
       "      <th>Start Date</th>\n",
       "      <th>End Date</th>\n",
       "      <th>Invert Duration</th>\n",
       "      <th>Rec. Start</th>\n",
       "      <th>Latency</th>\n",
       "      <th>Rec. End</th>\n",
       "      <th>Rec. Duration</th>\n",
       "      <th>sp_return_6m</th>\n",
       "      <th>sp_return_1yr</th>\n",
       "      <th>sp_return_2yr</th>\n",
       "    </tr>\n",
       "  </thead>\n",
       "  <tbody>\n",
       "    <tr>\n",
       "      <th>0</th>\n",
       "      <td>1998-09-10</td>\n",
       "      <td>1998-09-15</td>\n",
       "      <td>6</td>\n",
       "      <td>2001-01-01</td>\n",
       "      <td>845</td>\n",
       "      <td>2001-07-01</td>\n",
       "      <td>7.033333</td>\n",
       "      <td>30.570604</td>\n",
       "      <td>37.774309</td>\n",
       "      <td>53.295790</td>\n",
       "    </tr>\n",
       "    <tr>\n",
       "      <th>1</th>\n",
       "      <td>1998-09-21</td>\n",
       "      <td>1998-09-24</td>\n",
       "      <td>4</td>\n",
       "      <td>2001-01-01</td>\n",
       "      <td>834</td>\n",
       "      <td>2001-07-01</td>\n",
       "      <td>7.033333</td>\n",
       "      <td>26.674740</td>\n",
       "      <td>28.771645</td>\n",
       "      <td>45.451172</td>\n",
       "    </tr>\n",
       "    <tr>\n",
       "      <th>2</th>\n",
       "      <td>1998-10-05</td>\n",
       "      <td>1998-10-07</td>\n",
       "      <td>3</td>\n",
       "      <td>2001-01-01</td>\n",
       "      <td>820</td>\n",
       "      <td>2001-07-01</td>\n",
       "      <td>7.033333</td>\n",
       "      <td>33.640851</td>\n",
       "      <td>29.755402</td>\n",
       "      <td>45.568301</td>\n",
       "    </tr>\n",
       "    <tr>\n",
       "      <th>3</th>\n",
       "      <td>2000-04-07</td>\n",
       "      <td>2000-04-12</td>\n",
       "      <td>6</td>\n",
       "      <td>2001-01-01</td>\n",
       "      <td>270</td>\n",
       "      <td>2001-07-01</td>\n",
       "      <td>7.033333</td>\n",
       "      <td>-5.409701</td>\n",
       "      <td>-24.432354</td>\n",
       "      <td>-24.332113</td>\n",
       "    </tr>\n",
       "    <tr>\n",
       "      <th>4</th>\n",
       "      <td>2000-07-07</td>\n",
       "      <td>2000-07-18</td>\n",
       "      <td>12</td>\n",
       "      <td>2001-01-01</td>\n",
       "      <td>179</td>\n",
       "      <td>2001-07-01</td>\n",
       "      <td>7.033333</td>\n",
       "      <td>-8.880925</td>\n",
       "      <td>-16.376361</td>\n",
       "      <td>-33.015079</td>\n",
       "    </tr>\n",
       "    <tr>\n",
       "      <th>5</th>\n",
       "      <td>2000-07-19</td>\n",
       "      <td>2001-01-23</td>\n",
       "      <td>189</td>\n",
       "      <td>2001-01-01</td>\n",
       "      <td>167</td>\n",
       "      <td>2001-07-01</td>\n",
       "      <td>7.033333</td>\n",
       "      <td>-10.480040</td>\n",
       "      <td>-18.860833</td>\n",
       "      <td>-35.704742</td>\n",
       "    </tr>\n",
       "    <tr>\n",
       "      <th>6</th>\n",
       "      <td>2001-02-09</td>\n",
       "      <td>2001-02-13</td>\n",
       "      <td>5</td>\n",
       "      <td>2001-04-01</td>\n",
       "      <td>52</td>\n",
       "      <td>2001-07-01</td>\n",
       "      <td>4.033333</td>\n",
       "      <td>-9.981289</td>\n",
       "      <td>-16.757431</td>\n",
       "      <td>-35.759378</td>\n",
       "    </tr>\n",
       "    <tr>\n",
       "      <th>7</th>\n",
       "      <td>2006-01-17</td>\n",
       "      <td>2006-01-20</td>\n",
       "      <td>4</td>\n",
       "      <td>2007-10-01</td>\n",
       "      <td>623</td>\n",
       "      <td>2009-04-01</td>\n",
       "      <td>19.266667</td>\n",
       "      <td>-3.775732</td>\n",
       "      <td>11.520504</td>\n",
       "      <td>10.386381</td>\n",
       "    </tr>\n",
       "    <tr>\n",
       "      <th>8</th>\n",
       "      <td>2006-01-23</td>\n",
       "      <td>2006-01-26</td>\n",
       "      <td>4</td>\n",
       "      <td>2007-10-01</td>\n",
       "      <td>617</td>\n",
       "      <td>2009-04-01</td>\n",
       "      <td>19.266667</td>\n",
       "      <td>-0.230254</td>\n",
       "      <td>12.861800</td>\n",
       "      <td>12.061053</td>\n",
       "    </tr>\n",
       "    <tr>\n",
       "      <th>9</th>\n",
       "      <td>2006-02-22</td>\n",
       "      <td>2006-03-03</td>\n",
       "      <td>10</td>\n",
       "      <td>2007-10-01</td>\n",
       "      <td>587</td>\n",
       "      <td>2009-04-01</td>\n",
       "      <td>19.266667</td>\n",
       "      <td>0.375192</td>\n",
       "      <td>12.919771</td>\n",
       "      <td>4.346817</td>\n",
       "    </tr>\n",
       "    <tr>\n",
       "      <th>10</th>\n",
       "      <td>2006-07-17</td>\n",
       "      <td>2007-05-31</td>\n",
       "      <td>319</td>\n",
       "      <td>2007-10-01</td>\n",
       "      <td>442</td>\n",
       "      <td>2009-04-01</td>\n",
       "      <td>19.266667</td>\n",
       "      <td>15.991219</td>\n",
       "      <td>25.371611</td>\n",
       "      <td>1.443511</td>\n",
       "    </tr>\n",
       "    <tr>\n",
       "      <th>11</th>\n",
       "      <td>2007-07-20</td>\n",
       "      <td>2007-08-13</td>\n",
       "      <td>25</td>\n",
       "      <td>2007-10-01</td>\n",
       "      <td>74</td>\n",
       "      <td>2009-04-01</td>\n",
       "      <td>19.266667</td>\n",
       "      <td>-10.488234</td>\n",
       "      <td>-19.933512</td>\n",
       "      <td>-42.462682</td>\n",
       "    </tr>\n",
       "    <tr>\n",
       "      <th>12</th>\n",
       "      <td>2007-08-27</td>\n",
       "      <td>2007-08-29</td>\n",
       "      <td>3</td>\n",
       "      <td>2007-10-01</td>\n",
       "      <td>36</td>\n",
       "      <td>2009-04-01</td>\n",
       "      <td>19.266667</td>\n",
       "      <td>-6.476046</td>\n",
       "      <td>-12.890052</td>\n",
       "      <td>-33.205844</td>\n",
       "    </tr>\n",
       "    <tr>\n",
       "      <th>13</th>\n",
       "      <td>2019-03-22</td>\n",
       "      <td>2019-04-01</td>\n",
       "      <td>11</td>\n",
       "      <td>2020-01-01</td>\n",
       "      <td>286</td>\n",
       "      <td>2020-04-01</td>\n",
       "      <td>4.033333</td>\n",
       "      <td>7.355992</td>\n",
       "      <td>-14.802675</td>\n",
       "      <td>40.655048</td>\n",
       "    </tr>\n",
       "    <tr>\n",
       "      <th>14</th>\n",
       "      <td>2019-05-13</td>\n",
       "      <td>2019-05-15</td>\n",
       "      <td>3</td>\n",
       "      <td>2020-01-01</td>\n",
       "      <td>234</td>\n",
       "      <td>2020-04-01</td>\n",
       "      <td>4.033333</td>\n",
       "      <td>9.956719</td>\n",
       "      <td>2.465263</td>\n",
       "      <td>49.105755</td>\n",
       "    </tr>\n",
       "    <tr>\n",
       "      <th>15</th>\n",
       "      <td>2019-05-15</td>\n",
       "      <td>2019-05-21</td>\n",
       "      <td>7</td>\n",
       "      <td>2020-01-01</td>\n",
       "      <td>232</td>\n",
       "      <td>2020-04-01</td>\n",
       "      <td>4.033333</td>\n",
       "      <td>8.449084</td>\n",
       "      <td>2.783624</td>\n",
       "      <td>46.079215</td>\n",
       "    </tr>\n",
       "    <tr>\n",
       "      <th>16</th>\n",
       "      <td>2019-05-23</td>\n",
       "      <td>2019-07-24</td>\n",
       "      <td>63</td>\n",
       "      <td>2020-01-01</td>\n",
       "      <td>224</td>\n",
       "      <td>2020-04-01</td>\n",
       "      <td>4.033333</td>\n",
       "      <td>10.556863</td>\n",
       "      <td>4.665443</td>\n",
       "      <td>43.965077</td>\n",
       "    </tr>\n",
       "    <tr>\n",
       "      <th>17</th>\n",
       "      <td>2019-07-24</td>\n",
       "      <td>2019-10-15</td>\n",
       "      <td>84</td>\n",
       "      <td>2020-01-01</td>\n",
       "      <td>162</td>\n",
       "      <td>2020-04-01</td>\n",
       "      <td>4.033333</td>\n",
       "      <td>9.975957</td>\n",
       "      <td>7.692511</td>\n",
       "      <td>44.696909</td>\n",
       "    </tr>\n",
       "    <tr>\n",
       "      <th>18</th>\n",
       "      <td>2020-01-31</td>\n",
       "      <td>2020-02-05</td>\n",
       "      <td>6</td>\n",
       "      <td>2020-04-01</td>\n",
       "      <td>62</td>\n",
       "      <td>2020-04-01</td>\n",
       "      <td>1.000000</td>\n",
       "      <td>1.020611</td>\n",
       "      <td>19.526774</td>\n",
       "      <td>38.976971</td>\n",
       "    </tr>\n",
       "    <tr>\n",
       "      <th>19</th>\n",
       "      <td>2020-02-10</td>\n",
       "      <td>2020-02-12</td>\n",
       "      <td>3</td>\n",
       "      <td>2020-04-01</td>\n",
       "      <td>52</td>\n",
       "      <td>2020-04-01</td>\n",
       "      <td>1.000000</td>\n",
       "      <td>0.249993</td>\n",
       "      <td>15.502269</td>\n",
       "      <td>34.708495</td>\n",
       "    </tr>\n",
       "  </tbody>\n",
       "</table>\n",
       "</div>"
      ],
      "text/plain": [
       "   Start Date   End Date  Invert Duration Rec. Start  Latency   Rec. End  \\\n",
       "0  1998-09-10 1998-09-15                6 2001-01-01      845 2001-07-01   \n",
       "1  1998-09-21 1998-09-24                4 2001-01-01      834 2001-07-01   \n",
       "2  1998-10-05 1998-10-07                3 2001-01-01      820 2001-07-01   \n",
       "3  2000-04-07 2000-04-12                6 2001-01-01      270 2001-07-01   \n",
       "4  2000-07-07 2000-07-18               12 2001-01-01      179 2001-07-01   \n",
       "5  2000-07-19 2001-01-23              189 2001-01-01      167 2001-07-01   \n",
       "6  2001-02-09 2001-02-13                5 2001-04-01       52 2001-07-01   \n",
       "7  2006-01-17 2006-01-20                4 2007-10-01      623 2009-04-01   \n",
       "8  2006-01-23 2006-01-26                4 2007-10-01      617 2009-04-01   \n",
       "9  2006-02-22 2006-03-03               10 2007-10-01      587 2009-04-01   \n",
       "10 2006-07-17 2007-05-31              319 2007-10-01      442 2009-04-01   \n",
       "11 2007-07-20 2007-08-13               25 2007-10-01       74 2009-04-01   \n",
       "12 2007-08-27 2007-08-29                3 2007-10-01       36 2009-04-01   \n",
       "13 2019-03-22 2019-04-01               11 2020-01-01      286 2020-04-01   \n",
       "14 2019-05-13 2019-05-15                3 2020-01-01      234 2020-04-01   \n",
       "15 2019-05-15 2019-05-21                7 2020-01-01      232 2020-04-01   \n",
       "16 2019-05-23 2019-07-24               63 2020-01-01      224 2020-04-01   \n",
       "17 2019-07-24 2019-10-15               84 2020-01-01      162 2020-04-01   \n",
       "18 2020-01-31 2020-02-05                6 2020-04-01       62 2020-04-01   \n",
       "19 2020-02-10 2020-02-12                3 2020-04-01       52 2020-04-01   \n",
       "\n",
       "    Rec. Duration  sp_return_6m  sp_return_1yr  sp_return_2yr  \n",
       "0        7.033333     30.570604      37.774309      53.295790  \n",
       "1        7.033333     26.674740      28.771645      45.451172  \n",
       "2        7.033333     33.640851      29.755402      45.568301  \n",
       "3        7.033333     -5.409701     -24.432354     -24.332113  \n",
       "4        7.033333     -8.880925     -16.376361     -33.015079  \n",
       "5        7.033333    -10.480040     -18.860833     -35.704742  \n",
       "6        4.033333     -9.981289     -16.757431     -35.759378  \n",
       "7       19.266667     -3.775732      11.520504      10.386381  \n",
       "8       19.266667     -0.230254      12.861800      12.061053  \n",
       "9       19.266667      0.375192      12.919771       4.346817  \n",
       "10      19.266667     15.991219      25.371611       1.443511  \n",
       "11      19.266667    -10.488234     -19.933512     -42.462682  \n",
       "12      19.266667     -6.476046     -12.890052     -33.205844  \n",
       "13       4.033333      7.355992     -14.802675      40.655048  \n",
       "14       4.033333      9.956719       2.465263      49.105755  \n",
       "15       4.033333      8.449084       2.783624      46.079215  \n",
       "16       4.033333     10.556863       4.665443      43.965077  \n",
       "17       4.033333      9.975957       7.692511      44.696909  \n",
       "18       1.000000      1.020611      19.526774      38.976971  \n",
       "19       1.000000      0.249993      15.502269      34.708495  "
      ]
     },
     "execution_count": 63,
     "metadata": {},
     "output_type": "execute_result"
    }
   ],
   "source": [
    "m3_invert_df = compute_invert_metrics(m3_intervals, resdata, spread[['Date', ' Close']])\n",
    "m3_invert_df.head(20)"
   ]
  },
  {
   "cell_type": "code",
   "execution_count": 64,
   "id": "4ba981ee",
   "metadata": {},
   "outputs": [],
   "source": [
    "# If multiple inversions happen in a 6 month period, we group them together and count it as one inversion."
   ]
  },
  {
   "cell_type": "code",
   "execution_count": 65,
   "id": "d1c4cbd5",
   "metadata": {},
   "outputs": [],
   "source": [
    "def combine_invert_for_barchar(in_intervals, spdf):\n",
    "    cur_start_date = None\n",
    "    metrics_ls = []\n",
    "    cur_metrics = {}\n",
    "    for s,e,d,m in in_intervals:\n",
    "        if not cur_start_date:\n",
    "            cur_start_date = s       \n",
    "        elif s > cur_start_date + timedelta(days= 180):\n",
    "            cur_metrics['Start Date']= cur_start_date\n",
    "            cur_metrics['sp_return_6m'] = compute_sp_fowrard_return(cur_start_date, 6, spdf )\n",
    "            cur_metrics['sp_return_1yr'] = compute_sp_fowrard_return(cur_start_date, 12, spdf )\n",
    "            cur_metrics['sp_return_2yr'] = compute_sp_fowrard_return(cur_start_date, 24, spdf )\n",
    "            metrics_ls.append(cur_metrics)\n",
    "            cur_start_date = s\n",
    "            cur_metrics={}\n",
    "        else:\n",
    "            continue\n",
    "    \n",
    "    invert_df = pd.DataFrame.from_records( metrics_ls)\n",
    "\n",
    "    invert_df['Start Date'] = pd.to_datetime(invert_df['Start Date'])\n",
    "   \n",
    "    return invert_df"
   ]
  },
  {
   "cell_type": "code",
   "execution_count": 66,
   "id": "9ffe88ec",
   "metadata": {
    "scrolled": true
   },
   "outputs": [],
   "source": [
    "m3_combined_df = combine_invert_for_barchar(m3_intervals, spread[['Date', ' Close']])\n",
    "m3_combined_df = m3_combined_df.set_index('Start Date')"
   ]
  },
  {
   "cell_type": "code",
   "execution_count": 67,
   "id": "2c8895fb",
   "metadata": {},
   "outputs": [
    {
     "data": {
      "text/html": [
       "<div>\n",
       "<style scoped>\n",
       "    .dataframe tbody tr th:only-of-type {\n",
       "        vertical-align: middle;\n",
       "    }\n",
       "\n",
       "    .dataframe tbody tr th {\n",
       "        vertical-align: top;\n",
       "    }\n",
       "\n",
       "    .dataframe thead th {\n",
       "        text-align: right;\n",
       "    }\n",
       "</style>\n",
       "<table border=\"1\" class=\"dataframe\">\n",
       "  <thead>\n",
       "    <tr style=\"text-align: right;\">\n",
       "      <th></th>\n",
       "      <th>sp_return_6m</th>\n",
       "      <th>sp_return_1yr</th>\n",
       "      <th>sp_return_2yr</th>\n",
       "    </tr>\n",
       "    <tr>\n",
       "      <th>Start Date</th>\n",
       "      <th></th>\n",
       "      <th></th>\n",
       "      <th></th>\n",
       "    </tr>\n",
       "  </thead>\n",
       "  <tbody>\n",
       "    <tr>\n",
       "      <th>1998-09-10</th>\n",
       "      <td>30.570604</td>\n",
       "      <td>37.774309</td>\n",
       "      <td>53.295790</td>\n",
       "    </tr>\n",
       "    <tr>\n",
       "      <th>2000-04-07</th>\n",
       "      <td>-5.409701</td>\n",
       "      <td>-24.432354</td>\n",
       "      <td>-24.332113</td>\n",
       "    </tr>\n",
       "    <tr>\n",
       "      <th>2001-02-09</th>\n",
       "      <td>-9.981289</td>\n",
       "      <td>-16.757431</td>\n",
       "      <td>-35.759378</td>\n",
       "    </tr>\n",
       "    <tr>\n",
       "      <th>2006-01-17</th>\n",
       "      <td>-3.775732</td>\n",
       "      <td>11.520504</td>\n",
       "      <td>10.386381</td>\n",
       "    </tr>\n",
       "    <tr>\n",
       "      <th>2006-07-17</th>\n",
       "      <td>15.991219</td>\n",
       "      <td>25.371611</td>\n",
       "      <td>1.443511</td>\n",
       "    </tr>\n",
       "  </tbody>\n",
       "</table>\n",
       "</div>"
      ],
      "text/plain": [
       "            sp_return_6m  sp_return_1yr  sp_return_2yr\n",
       "Start Date                                            \n",
       "1998-09-10     30.570604      37.774309      53.295790\n",
       "2000-04-07     -5.409701     -24.432354     -24.332113\n",
       "2001-02-09     -9.981289     -16.757431     -35.759378\n",
       "2006-01-17     -3.775732      11.520504      10.386381\n",
       "2006-07-17     15.991219      25.371611       1.443511"
      ]
     },
     "execution_count": 67,
     "metadata": {},
     "output_type": "execute_result"
    }
   ],
   "source": [
    "m3_combined_df.head()"
   ]
  },
  {
   "cell_type": "code",
   "execution_count": 68,
   "id": "6af470bb",
   "metadata": {
    "scrolled": false
   },
   "outputs": [],
   "source": [
    "# Plotting barchart to showcase positive or negative SPY returns"
   ]
  },
  {
   "cell_type": "code",
   "execution_count": 69,
   "id": "1810ca12",
   "metadata": {},
   "outputs": [],
   "source": [
    "# 6 Month SPY returns"
   ]
  },
  {
   "cell_type": "code",
   "execution_count": 70,
   "id": "ca362b5f",
   "metadata": {},
   "outputs": [
    {
     "data": {
      "text/plain": [
       "Text(0, 0.5, 'SPY returns in Percent')"
      ]
     },
     "execution_count": 70,
     "metadata": {},
     "output_type": "execute_result"
    },
    {
     "data": {
      "image/png": "[encoded data removed]",
      "text/plain": [
       "<Figure size 432x288 with 1 Axes>"
      ]
     },
     "metadata": {
      "needs_background": "light"
     },
     "output_type": "display_data"
    }
   ],
   "source": [
    "ax = m3_combined_df['sp_return_6m'].plot(kind='bar')\n",
    "\n",
    "ax.set_xticklabels([x.strftime(\"%Y-%m\") for x in m3_combined_df.index], rotation=45)\n",
    "plt.axhline(0)\n",
    "plt.xticks(rotation = 30, horizontalalignment = 'center')\n",
    "\n",
    "\n",
    "plt.title(\"SPY returns 6 Months after each FIRST inversion\")\n",
    "plt.xlabel(\"Inversion Start Date\")\n",
    "plt.ylabel(\"SPY returns in Percent\")\n",
    "\n",
    "# plt.savefig('6_month_return.png')"
   ]
  },
  {
   "cell_type": "code",
   "execution_count": 71,
   "id": "2732cb05",
   "metadata": {},
   "outputs": [],
   "source": [
    "# 1 Year"
   ]
  },
  {
   "cell_type": "code",
   "execution_count": 72,
   "id": "d08fb1a6",
   "metadata": {},
   "outputs": [
    {
     "data": {
      "text/plain": [
       "Text(0, 0.5, 'SPY returns in Percent')"
      ]
     },
     "execution_count": 72,
     "metadata": {},
     "output_type": "execute_result"
    },
    {
     "data": {
      "image/png": "[encoded data removed]",
      "text/plain": [
       "<Figure size 432x288 with 1 Axes>"
      ]
     },
     "metadata": {
      "needs_background": "light"
     },
     "output_type": "display_data"
    }
   ],
   "source": [
    "ax = m3_combined_df['sp_return_1yr'].plot(kind='bar')\n",
    "\n",
    "\n",
    "\n",
    "ax.set_xticklabels([x.strftime(\"%Y-%m\") for x in m3_combined_df.index], rotation=45)\n",
    "plt.axhline(0)\n",
    "plt.xticks(rotation = 30, horizontalalignment = 'center')\n",
    "\n",
    "\n",
    "plt.title(\"SPY returns 1 year after each FIRST inversion\")\n",
    "plt.xlabel(\"Inversion Start Date\")\n",
    "plt.ylabel(\"SPY returns in Percent\")\n",
    "\n",
    "# plt.savefig('1yr_return.png')"
   ]
  },
  {
   "cell_type": "code",
   "execution_count": 73,
   "id": "9a602621",
   "metadata": {},
   "outputs": [],
   "source": [
    "# 2 Years"
   ]
  },
  {
   "cell_type": "code",
   "execution_count": 74,
   "id": "ba3c1262",
   "metadata": {},
   "outputs": [
    {
     "data": {
      "text/plain": [
       "Text(0, 0.5, 'SPY returns in Percent')"
      ]
     },
     "execution_count": 74,
     "metadata": {},
     "output_type": "execute_result"
    },
    {
     "data": {
      "image/png": "[encoded data removed]",
      "text/plain": [
       "<Figure size 432x288 with 1 Axes>"
      ]
     },
     "metadata": {
      "needs_background": "light"
     },
     "output_type": "display_data"
    }
   ],
   "source": [
    "ax = m3_combined_df['sp_return_2yr'].plot(kind='bar')\n",
    "\n",
    "\n",
    "\n",
    "ax.set_xticklabels([x.strftime(\"%Y-%m\") for x in m3_combined_df.index], rotation=45)\n",
    "plt.axhline(0)\n",
    "plt.xticks(rotation = 30, horizontalalignment = 'center')\n",
    "\n",
    "\n",
    "plt.title(\"SPY returns 2 years after each FIRST inversion\")\n",
    "plt.xlabel(\"Inversion Start Date\")\n",
    "plt.ylabel(\"SPY returns in Percent\")\n",
    "\n",
    "# plt.savefig('2yr_return.png')"
   ]
  },
  {
   "cell_type": "code",
   "execution_count": 75,
   "id": "dd69cc4a",
   "metadata": {},
   "outputs": [],
   "source": [
    "# Together"
   ]
  },
  {
   "cell_type": "code",
   "execution_count": 76,
   "id": "3edada7b",
   "metadata": {},
   "outputs": [
    {
     "data": {
      "text/plain": [
       "Text(0, 0.5, 'SPY returns in Percent')"
      ]
     },
     "execution_count": 76,
     "metadata": {},
     "output_type": "execute_result"
    },
    {
     "data": {
      "image/png": "[encoded data removed]",
      "text/plain": [
       "<Figure size 432x288 with 1 Axes>"
      ]
     },
     "metadata": {
      "needs_background": "light"
     },
     "output_type": "display_data"
    }
   ],
   "source": [
    "ax = m3_combined_df.plot(kind='bar')\n",
    "\n",
    "ax.set_xticklabels([x.strftime(\"%Y-%m\") for x in m3_combined_df.index], rotation=45)\n",
    "plt.axhline(0)\n",
    "plt.xticks(rotation = 30, horizontalalignment = 'center')\n",
    "\n",
    "\n",
    "plt.title(\"SPY returns after each FIRST inversion\")\n",
    "plt.xlabel(\"Inversion Start Date\")\n",
    "plt.ylabel(\"SPY returns in Percent\")\n",
    "\n",
    "# plt.savefig('together_return.png')"
   ]
  },
  {
   "cell_type": "code",
   "execution_count": 77,
   "id": "a4ed3ab6",
   "metadata": {},
   "outputs": [],
   "source": [
    "# Conclusion: Not accurate indicator"
   ]
  },
  {
   "cell_type": "code",
   "execution_count": 78,
   "id": "fb4c5675",
   "metadata": {},
   "outputs": [],
   "source": [
    "# pip install dataframe_image"
   ]
  },
  {
   "cell_type": "code",
   "execution_count": 79,
   "id": "26f4e9a3",
   "metadata": {},
   "outputs": [
    {
     "name": "stderr",
     "output_type": "stream",
     "text": [
      "[0429/103343.359083:INFO:headless_shell.cc(659)] Written to file /var/folders/sj/x46s482s0zs_2rd0g1_25m5r0000gn/T/tmp2u5wfuq9/temp.png.\n"
     ]
    }
   ],
   "source": [
    "# import dataframe_image as dfi\n",
    "# dfi.export(m3_invert_df, \"dataframe.png\")"
   ]
  },
  {
   "cell_type": "code",
   "execution_count": null,
   "id": "8f515d66",
   "metadata": {},
   "outputs": [],
   "source": []
  }
 ],
 "metadata": {
  "kernelspec": {
   "display_name": "Python 3 (ipykernel)",
   "language": "python",
   "name": "python3"
  },
  "language_info": {
   "codemirror_mode": {
    "name": "ipython",
    "version": 3
   },
   "file_extension": ".py",
   "mimetype": "text/x-python",
   "name": "python",
   "nbconvert_exporter": "python",
   "pygments_lexer": "ipython3",
   "version": "3.9.7"
  }
 },
 "nbformat": 4,
 "nbformat_minor": 5
}
