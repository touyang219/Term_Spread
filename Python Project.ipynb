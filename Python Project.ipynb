{
 "cells": [
  {
   "cell_type": "code",
   "execution_count": 1,
   "id": "b7712f0e",
   "metadata": {},
   "outputs": [
    {
     "data": {
      "text/plain": [
       "'\\n\\n\\nEconomic Forecasts with the Yield Curve\\n\\nEvery U.S. recession in the past 60 years was preceded by a negative term spread (an inverted yield curve).\\n(Rudebusch and Williams 2009). This project hopes to visually display the striking accuracy of the\\n2-year and 10-year term spread (the main one that traders watch), as well as the 3-month/10-year and\\n5-year/30-year spreads. \\n\\n\\n\\n'"
      ]
     },
     "execution_count": 1,
     "metadata": {},
     "output_type": "execute_result"
    }
   ],
   "source": [
    "'''\n",
    "\n",
    "\n",
    "Economic Forecasts with the Yield Curve\n",
    "\n",
    "Every U.S. recession in the past 60 years was preceded by a negative term spread (an inverted yield curve).\n",
    "(Rudebusch and Williams 2009). This project hopes to visually display the striking accuracy of the\n",
    "2-year and 10-year term spread (the main one that traders watch), as well as the 3-month/10-year and\n",
    "5-year/30-year spreads. \n",
    "\n",
    "\n",
    "\n",
    "'''"
   ]
  },
  {
   "cell_type": "code",
   "execution_count": 53,
   "id": "db8799fa",
   "metadata": {},
   "outputs": [],
   "source": [
    "import pandas as pd\n",
    "import datetime\n",
    "import numpy as np\n",
    "import matplotlib.pyplot as plt"
   ]
  },
  {
   "cell_type": "code",
   "execution_count": null,
   "id": "b8ec0214",
   "metadata": {},
   "outputs": [],
   "source": [
    "# Load Treasury rates \n",
    "# https://home.treasury.gov/resource-center/data-chart-center/interest-rates/TextView?type=daily_treasury_yield_curve&field_tdr_date_value=all\n",
    "\n",
    "#Load Spy Historical data\n",
    "#https://www.wsj.com/market-data/quotes/index/SPX/historical-prices"
   ]
  },
  {
   "cell_type": "code",
   "execution_count": 46,
   "id": "fdb90801",
   "metadata": {},
   "outputs": [
    {
     "data": {
      "text/html": [
       "<div>\n",
       "<style scoped>\n",
       "    .dataframe tbody tr th:only-of-type {\n",
       "        vertical-align: middle;\n",
       "    }\n",
       "\n",
       "    .dataframe tbody tr th {\n",
       "        vertical-align: top;\n",
       "    }\n",
       "\n",
       "    .dataframe thead th {\n",
       "        text-align: right;\n",
       "    }\n",
       "</style>\n",
       "<table border=\"1\" class=\"dataframe\">\n",
       "  <thead>\n",
       "    <tr style=\"text-align: right;\">\n",
       "      <th></th>\n",
       "      <th>Date</th>\n",
       "      <th>Open</th>\n",
       "      <th>High</th>\n",
       "      <th>Low</th>\n",
       "      <th>Close</th>\n",
       "    </tr>\n",
       "  </thead>\n",
       "  <tbody>\n",
       "    <tr>\n",
       "      <th>0</th>\n",
       "      <td>04/01/22</td>\n",
       "      <td>4540.32</td>\n",
       "      <td>4548.70</td>\n",
       "      <td>4507.57</td>\n",
       "      <td>4545.86</td>\n",
       "    </tr>\n",
       "    <tr>\n",
       "      <th>1</th>\n",
       "      <td>03/31/22</td>\n",
       "      <td>4599.02</td>\n",
       "      <td>4603.07</td>\n",
       "      <td>4530.41</td>\n",
       "      <td>4530.41</td>\n",
       "    </tr>\n",
       "    <tr>\n",
       "      <th>2</th>\n",
       "      <td>03/30/22</td>\n",
       "      <td>4624.20</td>\n",
       "      <td>4627.77</td>\n",
       "      <td>4581.32</td>\n",
       "      <td>4602.45</td>\n",
       "    </tr>\n",
       "    <tr>\n",
       "      <th>3</th>\n",
       "      <td>03/29/22</td>\n",
       "      <td>4602.86</td>\n",
       "      <td>4637.30</td>\n",
       "      <td>4589.66</td>\n",
       "      <td>4631.60</td>\n",
       "    </tr>\n",
       "    <tr>\n",
       "      <th>4</th>\n",
       "      <td>03/28/22</td>\n",
       "      <td>4541.09</td>\n",
       "      <td>4575.65</td>\n",
       "      <td>4517.69</td>\n",
       "      <td>4575.52</td>\n",
       "    </tr>\n",
       "    <tr>\n",
       "      <th>...</th>\n",
       "      <td>...</td>\n",
       "      <td>...</td>\n",
       "      <td>...</td>\n",
       "      <td>...</td>\n",
       "      <td>...</td>\n",
       "    </tr>\n",
       "    <tr>\n",
       "      <th>8116</th>\n",
       "      <td>01/16/90</td>\n",
       "      <td>340.75</td>\n",
       "      <td>340.75</td>\n",
       "      <td>333.37</td>\n",
       "      <td>340.75</td>\n",
       "    </tr>\n",
       "    <tr>\n",
       "      <th>8117</th>\n",
       "      <td>01/15/90</td>\n",
       "      <td>337.00</td>\n",
       "      <td>339.94</td>\n",
       "      <td>336.57</td>\n",
       "      <td>337.00</td>\n",
       "    </tr>\n",
       "    <tr>\n",
       "      <th>8118</th>\n",
       "      <td>01/12/90</td>\n",
       "      <td>339.93</td>\n",
       "      <td>348.53</td>\n",
       "      <td>339.49</td>\n",
       "      <td>339.93</td>\n",
       "    </tr>\n",
       "    <tr>\n",
       "      <th>8119</th>\n",
       "      <td>01/11/90</td>\n",
       "      <td>348.53</td>\n",
       "      <td>350.14</td>\n",
       "      <td>347.31</td>\n",
       "      <td>348.53</td>\n",
       "    </tr>\n",
       "    <tr>\n",
       "      <th>8120</th>\n",
       "      <td>01/10/90</td>\n",
       "      <td>347.31</td>\n",
       "      <td>349.62</td>\n",
       "      <td>344.32</td>\n",
       "      <td>347.31</td>\n",
       "    </tr>\n",
       "  </tbody>\n",
       "</table>\n",
       "<p>8121 rows × 5 columns</p>\n",
       "</div>"
      ],
      "text/plain": [
       "          Date     Open     High      Low    Close\n",
       "0     04/01/22  4540.32  4548.70  4507.57  4545.86\n",
       "1     03/31/22  4599.02  4603.07  4530.41  4530.41\n",
       "2     03/30/22  4624.20  4627.77  4581.32  4602.45\n",
       "3     03/29/22  4602.86  4637.30  4589.66  4631.60\n",
       "4     03/28/22  4541.09  4575.65  4517.69  4575.52\n",
       "...        ...      ...      ...      ...      ...\n",
       "8116  01/16/90   340.75   340.75   333.37   340.75\n",
       "8117  01/15/90   337.00   339.94   336.57   337.00\n",
       "8118  01/12/90   339.93   348.53   339.49   339.93\n",
       "8119  01/11/90   348.53   350.14   347.31   348.53\n",
       "8120  01/10/90   347.31   349.62   344.32   347.31\n",
       "\n",
       "[8121 rows x 5 columns]"
      ]
     },
     "execution_count": 46,
     "metadata": {},
     "output_type": "execute_result"
    }
   ],
   "source": [
    "rates = pd.read_csv('daily-treasury-rates.csv')\n",
    "#rates.head(5)\n",
    "spy = pd.read_csv('HistoricalPrices.csv')\n",
    "spy.head(-5)"
   ]
  },
  {
   "cell_type": "code",
   "execution_count": 66,
   "id": "eae0cf00",
   "metadata": {},
   "outputs": [],
   "source": [
    "rates['Date'] = pd.to_datetime(rates['Date'],format = '%m/%d/%y')\n",
    "spy['Date'] = pd.to_datetime(spy['Date'])"
   ]
  },
  {
   "cell_type": "code",
   "execution_count": 22,
   "id": "5615d44b",
   "metadata": {},
   "outputs": [],
   "source": [
    "# Calculating the yield spread \n",
    "# three_month = 10 Yr - 3 Mo\n",
    "# two_year = 10 Yr - 2 Yr\n",
    "# five_year = 30 Yr - 5 Yr"
   ]
  },
  {
   "cell_type": "code",
   "execution_count": 74,
   "id": "4fa9a33f",
   "metadata": {},
   "outputs": [],
   "source": [
    "rates = rates.assign(three_month = rates['10 Yr'] - rates['3 Mo'], \n",
    "                     two_year = rates['10 Yr'] - rates['2 Yr'], \n",
    "                     five_year = rates['30 Yr'] - rates['5 Yr'])"
   ]
  },
  {
   "cell_type": "code",
   "execution_count": 75,
   "id": "2fffbd45",
   "metadata": {},
   "outputs": [
    {
     "data": {
      "text/html": [
       "<div>\n",
       "<style scoped>\n",
       "    .dataframe tbody tr th:only-of-type {\n",
       "        vertical-align: middle;\n",
       "    }\n",
       "\n",
       "    .dataframe tbody tr th {\n",
       "        vertical-align: top;\n",
       "    }\n",
       "\n",
       "    .dataframe thead th {\n",
       "        text-align: right;\n",
       "    }\n",
       "</style>\n",
       "<table border=\"1\" class=\"dataframe\">\n",
       "  <thead>\n",
       "    <tr style=\"text-align: right;\">\n",
       "      <th></th>\n",
       "      <th>Date</th>\n",
       "      <th>1 Mo</th>\n",
       "      <th>2 Mo</th>\n",
       "      <th>3 Mo</th>\n",
       "      <th>6 Mo</th>\n",
       "      <th>1 Yr</th>\n",
       "      <th>2 Yr</th>\n",
       "      <th>3 Yr</th>\n",
       "      <th>5 Yr</th>\n",
       "      <th>7 Yr</th>\n",
       "      <th>10 Yr</th>\n",
       "      <th>20 Yr</th>\n",
       "      <th>30 Yr</th>\n",
       "      <th>three_month</th>\n",
       "      <th>two_year</th>\n",
       "      <th>five_year</th>\n",
       "    </tr>\n",
       "  </thead>\n",
       "  <tbody>\n",
       "    <tr>\n",
       "      <th>0</th>\n",
       "      <td>2022-03-31</td>\n",
       "      <td>0.17</td>\n",
       "      <td>0.35</td>\n",
       "      <td>0.52</td>\n",
       "      <td>1.06</td>\n",
       "      <td>1.63</td>\n",
       "      <td>2.28</td>\n",
       "      <td>2.45</td>\n",
       "      <td>2.42</td>\n",
       "      <td>2.40</td>\n",
       "      <td>2.32</td>\n",
       "      <td>2.59</td>\n",
       "      <td>2.44</td>\n",
       "      <td>1.80</td>\n",
       "      <td>0.04</td>\n",
       "      <td>0.02</td>\n",
       "    </tr>\n",
       "    <tr>\n",
       "      <th>1</th>\n",
       "      <td>2022-03-30</td>\n",
       "      <td>0.16</td>\n",
       "      <td>0.33</td>\n",
       "      <td>0.55</td>\n",
       "      <td>1.04</td>\n",
       "      <td>1.64</td>\n",
       "      <td>2.31</td>\n",
       "      <td>2.49</td>\n",
       "      <td>2.44</td>\n",
       "      <td>2.43</td>\n",
       "      <td>2.35</td>\n",
       "      <td>2.63</td>\n",
       "      <td>2.48</td>\n",
       "      <td>1.80</td>\n",
       "      <td>0.04</td>\n",
       "      <td>0.04</td>\n",
       "    </tr>\n",
       "    <tr>\n",
       "      <th>2</th>\n",
       "      <td>2022-03-29</td>\n",
       "      <td>0.18</td>\n",
       "      <td>0.34</td>\n",
       "      <td>0.55</td>\n",
       "      <td>1.06</td>\n",
       "      <td>1.67</td>\n",
       "      <td>2.35</td>\n",
       "      <td>2.54</td>\n",
       "      <td>2.49</td>\n",
       "      <td>2.50</td>\n",
       "      <td>2.41</td>\n",
       "      <td>2.68</td>\n",
       "      <td>2.53</td>\n",
       "      <td>1.86</td>\n",
       "      <td>0.06</td>\n",
       "      <td>0.04</td>\n",
       "    </tr>\n",
       "    <tr>\n",
       "      <th>3</th>\n",
       "      <td>2022-03-28</td>\n",
       "      <td>0.19</td>\n",
       "      <td>0.36</td>\n",
       "      <td>0.59</td>\n",
       "      <td>1.08</td>\n",
       "      <td>1.69</td>\n",
       "      <td>2.35</td>\n",
       "      <td>2.55</td>\n",
       "      <td>2.54</td>\n",
       "      <td>2.55</td>\n",
       "      <td>2.46</td>\n",
       "      <td>2.72</td>\n",
       "      <td>2.57</td>\n",
       "      <td>1.87</td>\n",
       "      <td>0.11</td>\n",
       "      <td>0.03</td>\n",
       "    </tr>\n",
       "    <tr>\n",
       "      <th>4</th>\n",
       "      <td>2022-03-25</td>\n",
       "      <td>0.17</td>\n",
       "      <td>0.32</td>\n",
       "      <td>0.55</td>\n",
       "      <td>1.01</td>\n",
       "      <td>1.67</td>\n",
       "      <td>2.30</td>\n",
       "      <td>2.51</td>\n",
       "      <td>2.55</td>\n",
       "      <td>2.56</td>\n",
       "      <td>2.48</td>\n",
       "      <td>2.74</td>\n",
       "      <td>2.60</td>\n",
       "      <td>1.93</td>\n",
       "      <td>0.18</td>\n",
       "      <td>0.05</td>\n",
       "    </tr>\n",
       "  </tbody>\n",
       "</table>\n",
       "</div>"
      ],
      "text/plain": [
       "        Date  1 Mo  2 Mo  3 Mo  6 Mo  1 Yr  2 Yr  3 Yr  5 Yr  7 Yr  10 Yr  \\\n",
       "0 2022-03-31  0.17  0.35  0.52  1.06  1.63  2.28  2.45  2.42  2.40   2.32   \n",
       "1 2022-03-30  0.16  0.33  0.55  1.04  1.64  2.31  2.49  2.44  2.43   2.35   \n",
       "2 2022-03-29  0.18  0.34  0.55  1.06  1.67  2.35  2.54  2.49  2.50   2.41   \n",
       "3 2022-03-28  0.19  0.36  0.59  1.08  1.69  2.35  2.55  2.54  2.55   2.46   \n",
       "4 2022-03-25  0.17  0.32  0.55  1.01  1.67  2.30  2.51  2.55  2.56   2.48   \n",
       "\n",
       "   20 Yr  30 Yr  three_month  two_year  five_year  \n",
       "0   2.59   2.44         1.80      0.04       0.02  \n",
       "1   2.63   2.48         1.80      0.04       0.04  \n",
       "2   2.68   2.53         1.86      0.06       0.04  \n",
       "3   2.72   2.57         1.87      0.11       0.03  \n",
       "4   2.74   2.60         1.93      0.18       0.05  "
      ]
     },
     "execution_count": 75,
     "metadata": {},
     "output_type": "execute_result"
    }
   ],
   "source": [
    "rates.head(5)"
   ]
  },
  {
   "cell_type": "code",
   "execution_count": 40,
   "id": "08c014c8",
   "metadata": {},
   "outputs": [
    {
     "data": {
      "text/html": [
       "<div>\n",
       "<style scoped>\n",
       "    .dataframe tbody tr th:only-of-type {\n",
       "        vertical-align: middle;\n",
       "    }\n",
       "\n",
       "    .dataframe tbody tr th {\n",
       "        vertical-align: top;\n",
       "    }\n",
       "\n",
       "    .dataframe thead th {\n",
       "        text-align: right;\n",
       "    }\n",
       "</style>\n",
       "<table border=\"1\" class=\"dataframe\">\n",
       "  <thead>\n",
       "    <tr style=\"text-align: right;\">\n",
       "      <th></th>\n",
       "      <th>Date</th>\n",
       "      <th>Open</th>\n",
       "      <th>High</th>\n",
       "      <th>Low</th>\n",
       "      <th>Close</th>\n",
       "    </tr>\n",
       "  </thead>\n",
       "  <tbody>\n",
       "    <tr>\n",
       "      <th>0</th>\n",
       "      <td>04/01/22</td>\n",
       "      <td>4540.32</td>\n",
       "      <td>4548.70</td>\n",
       "      <td>4507.57</td>\n",
       "      <td>4545.86</td>\n",
       "    </tr>\n",
       "    <tr>\n",
       "      <th>1</th>\n",
       "      <td>03/31/22</td>\n",
       "      <td>4599.02</td>\n",
       "      <td>4603.07</td>\n",
       "      <td>4530.41</td>\n",
       "      <td>4530.41</td>\n",
       "    </tr>\n",
       "    <tr>\n",
       "      <th>2</th>\n",
       "      <td>03/30/22</td>\n",
       "      <td>4624.20</td>\n",
       "      <td>4627.77</td>\n",
       "      <td>4581.32</td>\n",
       "      <td>4602.45</td>\n",
       "    </tr>\n",
       "    <tr>\n",
       "      <th>3</th>\n",
       "      <td>03/29/22</td>\n",
       "      <td>4602.86</td>\n",
       "      <td>4637.30</td>\n",
       "      <td>4589.66</td>\n",
       "      <td>4631.60</td>\n",
       "    </tr>\n",
       "    <tr>\n",
       "      <th>4</th>\n",
       "      <td>03/28/22</td>\n",
       "      <td>4541.09</td>\n",
       "      <td>4575.65</td>\n",
       "      <td>4517.69</td>\n",
       "      <td>4575.52</td>\n",
       "    </tr>\n",
       "  </tbody>\n",
       "</table>\n",
       "</div>"
      ],
      "text/plain": [
       "       Date     Open     High      Low    Close\n",
       "0  04/01/22  4540.32  4548.70  4507.57  4545.86\n",
       "1  03/31/22  4599.02  4603.07  4530.41  4530.41\n",
       "2  03/30/22  4624.20  4627.77  4581.32  4602.45\n",
       "3  03/29/22  4602.86  4637.30  4589.66  4631.60\n",
       "4  03/28/22  4541.09  4575.65  4517.69  4575.52"
      ]
     },
     "execution_count": 40,
     "metadata": {},
     "output_type": "execute_result"
    }
   ],
   "source": [
    "# Joining data for rates and SP500 close price together"
   ]
  },
  {
   "cell_type": "code",
   "execution_count": 108,
   "id": "1880d7e3",
   "metadata": {},
   "outputs": [],
   "source": [
    "together = pd.merge(rates, spy, how ='left', on = 'Date') \n",
    "together1 = together.interpolate(method = 'linear')"
   ]
  },
  {
   "cell_type": "code",
   "execution_count": null,
   "id": "81976892",
   "metadata": {},
   "outputs": [],
   "source": [
    "# Checking for null values"
   ]
  },
  {
   "cell_type": "code",
   "execution_count": 109,
   "id": "599707a3",
   "metadata": {},
   "outputs": [
    {
     "data": {
      "text/plain": [
       "Date              0\n",
       "1 Mo           2900\n",
       "2 Mo           7205\n",
       "3 Mo              4\n",
       "6 Mo              1\n",
       "1 Yr              1\n",
       "2 Yr              1\n",
       "3 Yr              1\n",
       "5 Yr              1\n",
       "7 Yr              1\n",
       "10 Yr             1\n",
       "20 Yr           940\n",
       "30 Yr           995\n",
       "three_month       4\n",
       "two_year          1\n",
       "five_year       995\n",
       " Open            12\n",
       " High            12\n",
       " Low             12\n",
       " Close           12\n",
       "dtype: int64"
      ]
     },
     "execution_count": 109,
     "metadata": {},
     "output_type": "execute_result"
    }
   ],
   "source": [
    "together.isnull().sum()"
   ]
  },
  {
   "cell_type": "code",
   "execution_count": null,
   "id": "7dc4baee",
   "metadata": {},
   "outputs": [],
   "source": [
    "# Since this project isn't focused on 1 Mo and 2 Mo rates, I will be ignoring those null values\n",
    "# Therefore, I decided to first create a new variable that contains the values I am interested in\n",
    "# I tried to clean the data in 'together' dataframe first, but realized I lose a lot of values\n",
    "# due to all the NaNs in 1 Mo and 2 Mo rates"
   ]
  },
  {
   "cell_type": "code",
   "execution_count": 163,
   "id": "74246c5e",
   "metadata": {},
   "outputs": [],
   "source": [
    "spread = together[['Date', 'three_month', 'two_year', ' Close']]\n",
    "#five_yr_spread = together[['Date', 'five_year']]"
   ]
  },
  {
   "cell_type": "code",
   "execution_count": null,
   "id": "5038374c",
   "metadata": {},
   "outputs": [],
   "source": [
    "# Now, I replace the missing values\n",
    "# Since this data is gathered daily, and the bigger picture timeframe is larger\n",
    "# I decided it is probably okay to remove the NA values "
   ]
  },
  {
   "cell_type": "code",
   "execution_count": 125,
   "id": "e3539fcc",
   "metadata": {},
   "outputs": [],
   "source": [
    "spread = spread.dropna(axis = 0, how = 'any')"
   ]
  },
  {
   "cell_type": "code",
   "execution_count": 113,
   "id": "61c967c1",
   "metadata": {},
   "outputs": [
    {
     "data": {
      "text/html": [
       "<div>\n",
       "<style scoped>\n",
       "    .dataframe tbody tr th:only-of-type {\n",
       "        vertical-align: middle;\n",
       "    }\n",
       "\n",
       "    .dataframe tbody tr th {\n",
       "        vertical-align: top;\n",
       "    }\n",
       "\n",
       "    .dataframe thead th {\n",
       "        text-align: right;\n",
       "    }\n",
       "</style>\n",
       "<table border=\"1\" class=\"dataframe\">\n",
       "  <thead>\n",
       "    <tr style=\"text-align: right;\">\n",
       "      <th></th>\n",
       "      <th>Date</th>\n",
       "      <th>three_month</th>\n",
       "      <th>two_year</th>\n",
       "      <th>five_year</th>\n",
       "      <th>Close</th>\n",
       "    </tr>\n",
       "  </thead>\n",
       "  <tbody>\n",
       "    <tr>\n",
       "      <th>8064</th>\n",
       "      <td>1990-01-09</td>\n",
       "      <td>0.22</td>\n",
       "      <td>0.11</td>\n",
       "      <td>0.18</td>\n",
       "      <td>349.62</td>\n",
       "    </tr>\n",
       "    <tr>\n",
       "      <th>8065</th>\n",
       "      <td>1990-01-08</td>\n",
       "      <td>0.23</td>\n",
       "      <td>0.12</td>\n",
       "      <td>0.17</td>\n",
       "      <td>353.79</td>\n",
       "    </tr>\n",
       "    <tr>\n",
       "      <th>8066</th>\n",
       "      <td>1990-01-05</td>\n",
       "      <td>0.20</td>\n",
       "      <td>0.09</td>\n",
       "      <td>0.14</td>\n",
       "      <td>352.20</td>\n",
       "    </tr>\n",
       "    <tr>\n",
       "      <th>8067</th>\n",
       "      <td>1990-01-04</td>\n",
       "      <td>0.14</td>\n",
       "      <td>0.06</td>\n",
       "      <td>0.13</td>\n",
       "      <td>355.67</td>\n",
       "    </tr>\n",
       "    <tr>\n",
       "      <th>8068</th>\n",
       "      <td>1990-01-03</td>\n",
       "      <td>0.10</td>\n",
       "      <td>0.05</td>\n",
       "      <td>0.12</td>\n",
       "      <td>358.76</td>\n",
       "    </tr>\n",
       "  </tbody>\n",
       "</table>\n",
       "</div>"
      ],
      "text/plain": [
       "           Date  three_month  two_year  five_year   Close\n",
       "8064 1990-01-09         0.22      0.11       0.18  349.62\n",
       "8065 1990-01-08         0.23      0.12       0.17  353.79\n",
       "8066 1990-01-05         0.20      0.09       0.14  352.20\n",
       "8067 1990-01-04         0.14      0.06       0.13  355.67\n",
       "8068 1990-01-03         0.10      0.05       0.12  358.76"
      ]
     },
     "execution_count": 113,
     "metadata": {},
     "output_type": "execute_result"
    }
   ],
   "source": [
    "spread.tail(5)"
   ]
  },
  {
   "cell_type": "code",
   "execution_count": null,
   "id": "9dd977b3",
   "metadata": {},
   "outputs": [],
   "source": [
    "# Checking to see if null values are removed"
   ]
  },
  {
   "cell_type": "code",
   "execution_count": 126,
   "id": "caf4b7df",
   "metadata": {},
   "outputs": [
    {
     "data": {
      "text/plain": [
       "Date           0\n",
       "three_month    0\n",
       "two_year       0\n",
       " Close         0\n",
       "dtype: int64"
      ]
     },
     "execution_count": 126,
     "metadata": {},
     "output_type": "execute_result"
    }
   ],
   "source": [
    "spread.isnull().sum()"
   ]
  },
  {
   "cell_type": "code",
   "execution_count": 180,
   "id": "9adf75fd",
   "metadata": {
    "scrolled": true
   },
   "outputs": [
    {
     "name": "stderr",
     "output_type": "stream",
     "text": [
      "/var/folders/sj/x46s482s0zs_2rd0g1_25m5r0000gn/T/ipykernel_6605/176462421.py:29: SettingWithCopyWarning:\n",
      "\n",
      "\n",
      "A value is trying to be set on a copy of a slice from a DataFrame.\n",
      "Try using .loc[row_indexer,col_indexer] = value instead\n",
      "\n",
      "See the caveats in the documentation: https://pandas.pydata.org/pandas-docs/stable/user_guide/indexing.html#returning-a-view-versus-a-copy\n",
      "\n"
     ]
    },
    {
     "data": {
      "text/plain": [
       "<matplotlib.image.AxesImage at 0x7f87c443c6d0>"
      ]
     },
     "execution_count": 180,
     "metadata": {},
     "output_type": "execute_result"
    },
    {
     "data": {
      "image/png": "[encoded data removed]",
      "text/plain": [
       "<Figure size 1152x288 with 2 Axes>"
      ]
     },
     "metadata": {
      "needs_background": "light"
     },
     "output_type": "display_data"
    }
   ],
   "source": [
    "fig, ax = plt.subplots(figsize=(16, 4))\n",
    "\n",
    "plt.plot(spread['Date'],\n",
    "        spread['three_month'], color = 'b', label = '3 Mo and 10 Yr Spread')\n",
    "plt.plot(spread['Date'],\n",
    "        spread['two_year'], color = 'r', label = '2 Yr and 10 Yr Spread')\n",
    "\n",
    "plt.grid()\n",
    "plt.axhline(0)\n",
    "plt.legend()\n",
    "\n",
    "# Getting Second Axis\n",
    "ax2 = ax.twinx()\n",
    "plt.plot(spread['Date'],\n",
    "        spread[' Close'],\n",
    "        color = \n",
    "         'g', label = 'S&P 500')\n",
    "plt.legend()\n",
    "\n",
    "# labels\n",
    "ax.set_xlabel('Time')\n",
    "ax.set_ylabel('Yield Spread')\n",
    "ax2.set_ylabel('S&P500 Price')\n",
    "plt.title('Yield Spreads vs. S&P 500 over Time')\n",
    "\n",
    "\n",
    "# Highlighting background color where spread inverts\n",
    "\n",
    "spread['three_month_simple'] = [-100 if val > 0 else 100 for val in spread['three_month'].values]\n",
    "ax.pcolorfast(ax.get_xlim(), ax.get_ylim(),\n",
    "             spread['three_month_simple'].values[np.newaxis],\n",
    "             cmap = 'Paired', alpha=0.3)\n",
    "\n"
   ]
  },
  {
   "cell_type": "code",
   "execution_count": null,
   "id": "7f6936bb",
   "metadata": {},
   "outputs": [],
   "source": [
    "# Highlighting when spread inverts (< 0)"
   ]
  },
  {
   "cell_type": "code",
   "execution_count": 155,
   "id": "52f7978d",
   "metadata": {},
   "outputs": [
    {
     "ename": "TypeError",
     "evalue": "cannot unpack non-iterable function object",
     "output_type": "error",
     "traceback": [
      "\u001b[0;31m---------------------------------------------------------------------------\u001b[0m",
      "\u001b[0;31mTypeError\u001b[0m                                 Traceback (most recent call last)",
      "\u001b[0;32m/var/folders/sj/x46s482s0zs_2rd0g1_25m5r0000gn/T/ipykernel_6605/3204347620.py\u001b[0m in \u001b[0;36m<module>\u001b[0;34m\u001b[0m\n\u001b[1;32m      1\u001b[0m \u001b[0mtmp\u001b[0m \u001b[0;34m=\u001b[0m \u001b[0mspread\u001b[0m\u001b[0;34m.\u001b[0m\u001b[0mcopy\u001b[0m\u001b[0;34m(\u001b[0m\u001b[0;34m)\u001b[0m\u001b[0;34m\u001b[0m\u001b[0;34m\u001b[0m\u001b[0m\n\u001b[1;32m      2\u001b[0m \u001b[0;34m\u001b[0m\u001b[0m\n\u001b[0;32m----> 3\u001b[0;31m \u001b[0mfig\u001b[0m\u001b[0;34m,\u001b[0m \u001b[0max\u001b[0m \u001b[0;34m=\u001b[0m \u001b[0mplt\u001b[0m\u001b[0;34m.\u001b[0m\u001b[0msubplots\u001b[0m\u001b[0;34m\u001b[0m\u001b[0;34m\u001b[0m\u001b[0m\n\u001b[0m\u001b[1;32m      4\u001b[0m \u001b[0;34m\u001b[0m\u001b[0m\n\u001b[1;32m      5\u001b[0m \u001b[0mplt\u001b[0m\u001b[0;34m.\u001b[0m\u001b[0mplot\u001b[0m\u001b[0;34m(\u001b[0m\u001b[0mtmp\u001b[0m\u001b[0;34m[\u001b[0m\u001b[0;34m'Date'\u001b[0m\u001b[0;34m]\u001b[0m\u001b[0;34m,\u001b[0m \u001b[0mtmp\u001b[0m\u001b[0;34m[\u001b[0m\u001b[0;34m'three_month'\u001b[0m\u001b[0;34m]\u001b[0m\u001b[0;34m,\u001b[0m \u001b[0mcolor\u001b[0m \u001b[0;34m=\u001b[0m \u001b[0;34m'r'\u001b[0m\u001b[0;34m,\u001b[0m \u001b[0mlabel\u001b[0m \u001b[0;34m=\u001b[0m \u001b[0;34m'3 Month and 10 year yield spread'\u001b[0m\u001b[0;34m)\u001b[0m\u001b[0;34m\u001b[0m\u001b[0;34m\u001b[0m\u001b[0m\n",
      "\u001b[0;31mTypeError\u001b[0m: cannot unpack non-iterable function object"
     ]
    }
   ],
   "source": [
    "\n"
   ]
  },
  {
   "cell_type": "code",
   "execution_count": 107,
   "id": "1ccffd77",
   "metadata": {},
   "outputs": [
    {
     "data": {
      "text/html": [
       "<div>\n",
       "<style scoped>\n",
       "    .dataframe tbody tr th:only-of-type {\n",
       "        vertical-align: middle;\n",
       "    }\n",
       "\n",
       "    .dataframe tbody tr th {\n",
       "        vertical-align: top;\n",
       "    }\n",
       "\n",
       "    .dataframe thead th {\n",
       "        text-align: right;\n",
       "    }\n",
       "</style>\n",
       "<table border=\"1\" class=\"dataframe\">\n",
       "  <thead>\n",
       "    <tr style=\"text-align: right;\">\n",
       "      <th></th>\n",
       "      <th>Date</th>\n",
       "      <th>three_month</th>\n",
       "      <th>two_year</th>\n",
       "      <th>five_year</th>\n",
       "      <th>Close</th>\n",
       "    </tr>\n",
       "  </thead>\n",
       "  <tbody>\n",
       "    <tr>\n",
       "      <th>860</th>\n",
       "      <td>2018-10-22</td>\n",
       "      <td>0.86</td>\n",
       "      <td>0.28</td>\n",
       "      <td>0.33</td>\n",
       "      <td>2755.88</td>\n",
       "    </tr>\n",
       "    <tr>\n",
       "      <th>861</th>\n",
       "      <td>2018-10-19</td>\n",
       "      <td>0.89</td>\n",
       "      <td>0.28</td>\n",
       "      <td>0.33</td>\n",
       "      <td>2767.78</td>\n",
       "    </tr>\n",
       "    <tr>\n",
       "      <th>862</th>\n",
       "      <td>2018-10-18</td>\n",
       "      <td>0.85</td>\n",
       "      <td>0.30</td>\n",
       "      <td>0.33</td>\n",
       "      <td>2768.78</td>\n",
       "    </tr>\n",
       "    <tr>\n",
       "      <th>863</th>\n",
       "      <td>2018-10-17</td>\n",
       "      <td>0.88</td>\n",
       "      <td>0.30</td>\n",
       "      <td>0.31</td>\n",
       "      <td>2809.21</td>\n",
       "    </tr>\n",
       "    <tr>\n",
       "      <th>864</th>\n",
       "      <td>2018-10-16</td>\n",
       "      <td>0.86</td>\n",
       "      <td>0.29</td>\n",
       "      <td>0.30</td>\n",
       "      <td>2809.92</td>\n",
       "    </tr>\n",
       "  </tbody>\n",
       "</table>\n",
       "</div>"
      ],
      "text/plain": [
       "          Date  three_month  two_year  five_year    Close\n",
       "860 2018-10-22         0.86      0.28       0.33  2755.88\n",
       "861 2018-10-19         0.89      0.28       0.33  2767.78\n",
       "862 2018-10-18         0.85      0.30       0.33  2768.78\n",
       "863 2018-10-17         0.88      0.30       0.31  2809.21\n",
       "864 2018-10-16         0.86      0.29       0.30  2809.92"
      ]
     },
     "execution_count": 107,
     "metadata": {},
     "output_type": "execute_result"
    }
   ],
   "source": []
  },
  {
   "cell_type": "code",
   "execution_count": 106,
   "id": "055e55e1",
   "metadata": {},
   "outputs": [
    {
     "data": {
      "text/plain": [
       "Date           0\n",
       "three_month    0\n",
       "two_year       0\n",
       "five_year      0\n",
       " Close         0\n",
       "dtype: int64"
      ]
     },
     "execution_count": 106,
     "metadata": {},
     "output_type": "execute_result"
    }
   ],
   "source": []
  },
  {
   "cell_type": "code",
   "execution_count": 88,
   "id": "cb2a4e3c",
   "metadata": {},
   "outputs": [
    {
     "data": {
      "text/plain": [
       "Date             0\n",
       "three_month      4\n",
       "two_year         1\n",
       "five_year      995\n",
       " Close          12\n",
       "dtype: int64"
      ]
     },
     "execution_count": 88,
     "metadata": {},
     "output_type": "execute_result"
    }
   ],
   "source": []
  },
  {
   "cell_type": "code",
   "execution_count": null,
   "id": "0495e96f",
   "metadata": {},
   "outputs": [],
   "source": []
  },
  {
   "cell_type": "code",
   "execution_count": 91,
   "id": "da5f40c7",
   "metadata": {
    "scrolled": true
   },
   "outputs": [
    {
     "data": {
      "text/plain": [
       "Date              0\n",
       "1 Mo           2900\n",
       "2 Mo           7205\n",
       "3 Mo              4\n",
       "6 Mo              1\n",
       "1 Yr              1\n",
       "2 Yr              1\n",
       "3 Yr              1\n",
       "5 Yr              1\n",
       "7 Yr              1\n",
       "10 Yr             1\n",
       "20 Yr           940\n",
       "30 Yr           995\n",
       "three_month       4\n",
       "two_year          1\n",
       "five_year       995\n",
       " Open            12\n",
       " High            12\n",
       " Low             12\n",
       " Close           12\n",
       "dtype: int64"
      ]
     },
     "execution_count": 91,
     "metadata": {},
     "output_type": "execute_result"
    }
   ],
   "source": []
  },
  {
   "cell_type": "code",
   "execution_count": null,
   "id": "d11f91c0",
   "metadata": {},
   "outputs": [],
   "source": []
  },
  {
   "cell_type": "code",
   "execution_count": null,
   "id": "a3dec13a",
   "metadata": {},
   "outputs": [],
   "source": []
  },
  {
   "cell_type": "code",
   "execution_count": null,
   "id": "dd87e1a9",
   "metadata": {},
   "outputs": [],
   "source": []
  },
  {
   "cell_type": "code",
   "execution_count": null,
   "id": "7b37c85e",
   "metadata": {},
   "outputs": [],
   "source": []
  },
  {
   "cell_type": "code",
   "execution_count": null,
   "id": "da0acd2a",
   "metadata": {},
   "outputs": [],
   "source": []
  }
 ],
 "metadata": {
  "kernelspec": {
   "display_name": "Python 3 (ipykernel)",
   "language": "python",
   "name": "python3"
  },
  "language_info": {
   "codemirror_mode": {
    "name": "ipython",
    "version": 3
   },
   "file_extension": ".py",
   "mimetype": "text/x-python",
   "name": "python",
   "nbconvert_exporter": "python",
   "pygments_lexer": "ipython3",
   "version": "3.9.7"
  }
 },
 "nbformat": 4,
 "nbformat_minor": 5
}
